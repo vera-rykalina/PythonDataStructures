{
 "cells": [
  {
   "cell_type": "markdown",
   "id": "47dabc76",
   "metadata": {},
   "source": [
    "### 21.02.2022"
   ]
  },
  {
   "cell_type": "code",
   "execution_count": 5,
   "id": "88a5d922",
   "metadata": {},
   "outputs": [
    {
     "name": "stdout",
     "output_type": "stream",
     "text": [
      "                                  2022\n",
      "\n",
      "      January                   February                   March\n",
      "Mo Tu We Th Fr Sa Su      Mo Tu We Th Fr Sa Su      Mo Tu We Th Fr Sa Su\n",
      "                1  2          1  2  3  4  5  6          1  2  3  4  5  6\n",
      " 3  4  5  6  7  8  9       7  8  9 10 11 12 13       7  8  9 10 11 12 13\n",
      "10 11 12 13 14 15 16      14 15 16 17 18 19 20      14 15 16 17 18 19 20\n",
      "17 18 19 20 21 22 23      21 22 23 24 25 26 27      21 22 23 24 25 26 27\n",
      "24 25 26 27 28 29 30      28                        28 29 30 31\n",
      "31\n",
      "\n",
      "       April                      May                       June\n",
      "Mo Tu We Th Fr Sa Su      Mo Tu We Th Fr Sa Su      Mo Tu We Th Fr Sa Su\n",
      "             1  2  3                         1             1  2  3  4  5\n",
      " 4  5  6  7  8  9 10       2  3  4  5  6  7  8       6  7  8  9 10 11 12\n",
      "11 12 13 14 15 16 17       9 10 11 12 13 14 15      13 14 15 16 17 18 19\n",
      "18 19 20 21 22 23 24      16 17 18 19 20 21 22      20 21 22 23 24 25 26\n",
      "25 26 27 28 29 30         23 24 25 26 27 28 29      27 28 29 30\n",
      "                          30 31\n",
      "\n",
      "        July                     August                  September\n",
      "Mo Tu We Th Fr Sa Su      Mo Tu We Th Fr Sa Su      Mo Tu We Th Fr Sa Su\n",
      "             1  2  3       1  2  3  4  5  6  7                1  2  3  4\n",
      " 4  5  6  7  8  9 10       8  9 10 11 12 13 14       5  6  7  8  9 10 11\n",
      "11 12 13 14 15 16 17      15 16 17 18 19 20 21      12 13 14 15 16 17 18\n",
      "18 19 20 21 22 23 24      22 23 24 25 26 27 28      19 20 21 22 23 24 25\n",
      "25 26 27 28 29 30 31      29 30 31                  26 27 28 29 30\n",
      "\n",
      "      October                   November                  December\n",
      "Mo Tu We Th Fr Sa Su      Mo Tu We Th Fr Sa Su      Mo Tu We Th Fr Sa Su\n",
      "                1  2          1  2  3  4  5  6                1  2  3  4\n",
      " 3  4  5  6  7  8  9       7  8  9 10 11 12 13       5  6  7  8  9 10 11\n",
      "10 11 12 13 14 15 16      14 15 16 17 18 19 20      12 13 14 15 16 17 18\n",
      "17 18 19 20 21 22 23      21 22 23 24 25 26 27      19 20 21 22 23 24 25\n",
      "24 25 26 27 28 29 30      28 29 30                  26 27 28 29 30 31\n",
      "31\n",
      "None\n"
     ]
    }
   ],
   "source": [
    "import calendar\n",
    "year1 = calendar.prcal(2022)\n",
    "print(year1)"
   ]
  },
  {
   "cell_type": "code",
   "execution_count": 6,
   "id": "b8cbc2a5",
   "metadata": {},
   "outputs": [
    {
     "name": "stdout",
     "output_type": "stream",
     "text": [
      "                                  2020\n",
      "\n",
      "      January                   February                   March\n",
      "Mo Tu We Th Fr Sa Su      Mo Tu We Th Fr Sa Su      Mo Tu We Th Fr Sa Su\n",
      "       1  2  3  4  5                      1  2                         1\n",
      " 6  7  8  9 10 11 12       3  4  5  6  7  8  9       2  3  4  5  6  7  8\n",
      "13 14 15 16 17 18 19      10 11 12 13 14 15 16       9 10 11 12 13 14 15\n",
      "20 21 22 23 24 25 26      17 18 19 20 21 22 23      16 17 18 19 20 21 22\n",
      "27 28 29 30 31            24 25 26 27 28 29         23 24 25 26 27 28 29\n",
      "                                                    30 31\n",
      "\n",
      "       April                      May                       June\n",
      "Mo Tu We Th Fr Sa Su      Mo Tu We Th Fr Sa Su      Mo Tu We Th Fr Sa Su\n",
      "       1  2  3  4  5                   1  2  3       1  2  3  4  5  6  7\n",
      " 6  7  8  9 10 11 12       4  5  6  7  8  9 10       8  9 10 11 12 13 14\n",
      "13 14 15 16 17 18 19      11 12 13 14 15 16 17      15 16 17 18 19 20 21\n",
      "20 21 22 23 24 25 26      18 19 20 21 22 23 24      22 23 24 25 26 27 28\n",
      "27 28 29 30               25 26 27 28 29 30 31      29 30\n",
      "\n",
      "        July                     August                  September\n",
      "Mo Tu We Th Fr Sa Su      Mo Tu We Th Fr Sa Su      Mo Tu We Th Fr Sa Su\n",
      "       1  2  3  4  5                      1  2          1  2  3  4  5  6\n",
      " 6  7  8  9 10 11 12       3  4  5  6  7  8  9       7  8  9 10 11 12 13\n",
      "13 14 15 16 17 18 19      10 11 12 13 14 15 16      14 15 16 17 18 19 20\n",
      "20 21 22 23 24 25 26      17 18 19 20 21 22 23      21 22 23 24 25 26 27\n",
      "27 28 29 30 31            24 25 26 27 28 29 30      28 29 30\n",
      "                          31\n",
      "\n",
      "      October                   November                  December\n",
      "Mo Tu We Th Fr Sa Su      Mo Tu We Th Fr Sa Su      Mo Tu We Th Fr Sa Su\n",
      "          1  2  3  4                         1          1  2  3  4  5  6\n",
      " 5  6  7  8  9 10 11       2  3  4  5  6  7  8       7  8  9 10 11 12 13\n",
      "12 13 14 15 16 17 18       9 10 11 12 13 14 15      14 15 16 17 18 19 20\n",
      "19 20 21 22 23 24 25      16 17 18 19 20 21 22      21 22 23 24 25 26 27\n",
      "26 27 28 29 30 31         23 24 25 26 27 28 29      28 29 30 31\n",
      "                          30\n",
      "None\n"
     ]
    }
   ],
   "source": [
    "from calendar import prcal\n",
    "year2 = prcal(2020)\n",
    "print(year2)"
   ]
  },
  {
   "cell_type": "code",
   "execution_count": 3,
   "id": "bb3898c4",
   "metadata": {},
   "outputs": [
    {
     "name": "stdout",
     "output_type": "stream",
     "text": [
      "That is a computer choice: 32\n",
      "\n",
      "There is a number you have to guess!\n",
      "\n",
      "What is your first guess: 22\n",
      "Next guess: 32\n",
      "You guessed correctly!\n",
      "Number of your attempts: 2\n"
     ]
    }
   ],
   "source": [
    "# Ecercise 33\n",
    "import random\n",
    "computer_choice = random.randint(0, 100)\n",
    "print(f\"That is a computer choice: {computer_choice}\")\n",
    "print(\"\")\n",
    "print(\"There is a number you have to guess!\")\n",
    "print(\"\")\n",
    "your_choice = int(input(\"What is your first guess: \"))\n",
    "\n",
    "\n",
    "i = 1\n",
    "while your_choice != computer_choice:\n",
    "    your_choice = int(input(\"Next guess: \"))\n",
    "    if your_choice > computer_choice:\n",
    "        print(\"Give a smaller number\")\n",
    "        i += 1\n",
    "    elif your_choice < computer_choice:\n",
    "        print(\"Give a bigger number\")\n",
    "        i += 1\n",
    "    else:\n",
    "        print(\"You guessed correctly!\")\n",
    "        i += 1\n",
    "        #print(i)\n",
    "print(f\"Number of your attempts: {i}\")"
   ]
  },
  {
   "cell_type": "markdown",
   "id": "312e3e07",
   "metadata": {},
   "source": [
    "## Module OS"
   ]
  },
  {
   "cell_type": "code",
   "execution_count": 6,
   "id": "0779d08c",
   "metadata": {},
   "outputs": [
    {
     "name": "stdout",
     "output_type": "stream",
     "text": [
      "\u001b[H\u001b[2J"
     ]
    },
    {
     "data": {
      "text/plain": [
       "0"
      ]
     },
     "execution_count": 6,
     "metadata": {},
     "output_type": "execute_result"
    }
   ],
   "source": [
    "import os\n",
    "os.system(\"clear\")"
   ]
  },
  {
   "cell_type": "code",
   "execution_count": 13,
   "id": "4d749ced",
   "metadata": {},
   "outputs": [
    {
     "name": "stdout",
     "output_type": "stream",
     "text": [
      "total 176\n",
      "drwxr-xr-x  13 vera  staff    416 Feb 21 13:37 .\n",
      "drwxr-xr-x   3 vera  staff     96 Feb 14 09:06 ..\n",
      "drwxr-xr-x  12 vera  staff    384 Feb 18 22:33 .git\n",
      "-rw-r--r--   1 vera  staff     19 Feb 18 22:21 .gitignore\n",
      "drwxr-xr-x   4 vera  staff    128 Feb 21 12:42 .ipynb_checkpoints\n",
      "-rw-r--r--   1 vera  staff  14535 Feb 21 11:49 functions.ipynb\n",
      "-rw-r--r--   1 vera  staff   3308 Feb 18 22:06 functions.py\n",
      "-rw-r--r--   1 vera  staff   5417 Feb 14 15:33 lists.py\n",
      "-rw-r--r--   1 vera  staff   6470 Feb 16 22:09 lists_dictionaries.py\n",
      "-rw-r--r--   1 vera  staff  21909 Feb 18 15:08 loops.ipynb\n",
      "-rw-r--r--   1 vera  staff   9949 Feb 21 13:35 modules.ipynb\n",
      "-rw-r--r--   1 vera  staff   5542 Feb 16 21:35 nested_dictionaries.ipynb\n",
      "-rw-r--r--   1 vera  staff   2896 Feb 16 21:47 sets_tuples.py\n"
     ]
    },
    {
     "data": {
      "text/plain": [
       "0"
      ]
     },
     "execution_count": 13,
     "metadata": {},
     "output_type": "execute_result"
    }
   ],
   "source": [
    "os.system(\"ls -la\")"
   ]
  },
  {
   "cell_type": "code",
   "execution_count": 17,
   "id": "e5fc5f32",
   "metadata": {},
   "outputs": [
    {
     "name": "stdout",
     "output_type": "stream",
     "text": [
      "total 176\n",
      "drwxr-xr-x  14 vera  staff    448 Feb 21 13:39 .\n",
      "drwxr-xr-x   3 vera  staff     96 Feb 14 09:06 ..\n",
      "drwxr-xr-x  12 vera  staff    384 Feb 18 22:33 .git\n",
      "-rw-r--r--   1 vera  staff     19 Feb 18 22:21 .gitignore\n",
      "drwxr-xr-x   4 vera  staff    128 Feb 21 12:42 .ipynb_checkpoints\n",
      "-rw-r--r--   1 vera  staff  14535 Feb 21 11:49 functions.ipynb\n",
      "-rw-r--r--   1 vera  staff   3308 Feb 18 22:06 functions.py\n",
      "-rw-r--r--   1 vera  staff   5417 Feb 14 15:33 lists.py\n",
      "-rw-r--r--   1 vera  staff   6470 Feb 16 22:09 lists_dictionaries.py\n",
      "-rw-r--r--   1 vera  staff  21909 Feb 18 15:08 loops.ipynb\n",
      "-rw-r--r--   1 vera  staff  10205 Feb 21 13:37 modules.ipynb\n",
      "-rw-r--r--   1 vera  staff   5542 Feb 16 21:35 nested_dictionaries.ipynb\n",
      "-rw-r--r--   1 vera  staff   2896 Feb 16 21:47 sets_tuples.py\n",
      "drwxr-xr-x   2 vera  staff     64 Feb 21 13:39 test_os_module\n"
     ]
    },
    {
     "data": {
      "text/plain": [
       "0"
      ]
     },
     "execution_count": 17,
     "metadata": {},
     "output_type": "execute_result"
    }
   ],
   "source": [
    "os.mkdir(\"test_os_module\")\n",
    "os.system(\"ls -la\")\n",
    "#os.chdir(\"test_os\")"
   ]
  },
  {
   "cell_type": "code",
   "execution_count": 16,
   "id": "97af4925",
   "metadata": {},
   "outputs": [
    {
     "data": {
      "text/plain": [
       "0"
      ]
     },
     "execution_count": 16,
     "metadata": {},
     "output_type": "execute_result"
    }
   ],
   "source": [
    "os.system(\"rm -r test_os_module\")\n"
   ]
  },
  {
   "cell_type": "code",
   "execution_count": 7,
   "id": "c0c12874",
   "metadata": {},
   "outputs": [
    {
     "data": {
      "text/plain": [
       "'/Users/vera/Desktop/CQ/Python/My_py/PythonDataStructures'"
      ]
     },
     "execution_count": 7,
     "metadata": {},
     "output_type": "execute_result"
    }
   ],
   "source": [
    "os.getcwd()"
   ]
  },
  {
   "cell_type": "code",
   "execution_count": 23,
   "id": "21eb6b00",
   "metadata": {},
   "outputs": [],
   "source": [
    "Dirs = [\"Hello\", \"Hi\"]\n",
    "for Dir in Dirs:\n",
    "    #os.mkdir(Dir) # an easier way\n",
    "    os.system(\"mkdir \" + Dir)\n",
    "    "
   ]
  },
  {
   "cell_type": "code",
   "execution_count": 35,
   "id": "3409d76d",
   "metadata": {},
   "outputs": [
    {
     "name": "stdout",
     "output_type": "stream",
     "text": [
      "\u001b[36mHello\u001b[m\u001b[m                     lists.py                  nested_dictionaries.ipynb\r\n",
      "\u001b[36mHi\u001b[m\u001b[m                        lists_dictionaries.py     sets_tuples.py\r\n",
      "functions.ipynb           loops.ipynb               \u001b[36mtest_os\u001b[m\u001b[m\r\n",
      "functions.py              modules.ipynb\r\n"
     ]
    }
   ],
   "source": [
    "!ls"
   ]
  },
  {
   "cell_type": "code",
   "execution_count": 29,
   "id": "c804e2f9",
   "metadata": {},
   "outputs": [],
   "source": [
    "os.makedirs(\"test_os/hello/world\", exist_ok = True)\n"
   ]
  },
  {
   "cell_type": "code",
   "execution_count": 39,
   "id": "98015c3c",
   "metadata": {},
   "outputs": [
    {
     "name": "stdout",
     "output_type": "stream",
     "text": [
      "functions.ipynb           lists_dictionaries.py     nested_dictionaries.ipynb\r\n",
      "functions.py              loops.ipynb               sets_tuples.py\r\n",
      "lists.py                  modules.ipynb\r\n"
     ]
    }
   ],
   "source": [
    "!rm -r test_os\n",
    "\n",
    "!ls\n"
   ]
  },
  {
   "cell_type": "code",
   "execution_count": 115,
   "id": "8f84d5d8",
   "metadata": {},
   "outputs": [],
   "source": [
    "# Exercise 34\n",
    "curdir = \"/Users/vera/Desktop/CQ/Python/My_py/PythonDataStructures/structure/sub_str\"\n",
    "import os\n",
    "#os.mkdir(\"structure\")\n",
    "#os.makedirs(\"structure/sub_str\")\n",
    "#os.chdir(\"structure/sub_str\")\n",
    "folders = [\"fld1\", \"fld2\", \"fld3\", \"fld4\", \"fld5\"]\n",
    "for fld in folders:\n",
    "    os.mkdir(fld)\n",
    "    os.chdir(fld)\n",
    "    os.system(\"touch file.txt\")\n",
    "    os.chdir(curdir)"
   ]
  },
  {
   "cell_type": "code",
   "execution_count": 124,
   "id": "8519cfa8",
   "metadata": {},
   "outputs": [
    {
     "name": "stdout",
     "output_type": "stream",
     "text": [
      "False\n",
      "248832.0\n"
     ]
    }
   ],
   "source": [
    "import math\n",
    "var1 = 12\n",
    "var2 = 5\n",
    "print(math.isnan(var1))\n",
    "print(math.pow(var1, var2))"
   ]
  },
  {
   "cell_type": "code",
   "execution_count": 128,
   "id": "5b0c99b7",
   "metadata": {},
   "outputs": [
    {
     "name": "stdout",
     "output_type": "stream",
     "text": [
      "Type the first number2\n",
      "Type the second number3\n",
      "a^b =\n"
     ]
    },
    {
     "data": {
      "text/plain": [
       "8.0"
      ]
     },
     "execution_count": 128,
     "metadata": {},
     "output_type": "execute_result"
    }
   ],
   "source": [
    "def math_ops(a,b):\n",
    "    print(\"a^b =\")\n",
    "    return math.pow(a,b)\n",
    "\n",
    "inp1 = int(input(\"Type the first number\"))\n",
    "inp2 = int(input(\"Type the second number\"))\n",
    "\n",
    "math_ops(inp1, inp2)"
   ]
  },
  {
   "cell_type": "code",
   "execution_count": 140,
   "id": "5f3777a6",
   "metadata": {},
   "outputs": [
    {
     "name": "stdout",
     "output_type": "stream",
     "text": [
      "Type the first number: 1\n",
      "Type the second number: 2\n",
      "2.718281828459045\n",
      "0.0\n",
      "0.0\n",
      "0.0\n",
      "1.0\n",
      "1.0\n",
      "0.5403023058681398\n",
      "0.8414709848078965\n",
      "1.557407724654902\n",
      "0.0\n",
      "1.5707963267948966\n",
      "0.7853981633974483\n"
     ]
    }
   ],
   "source": [
    "inp1 = int(input(\"Type the first number: \"))\n",
    "inp2 = int(input(\"Type the second number: \"))\n",
    "print(math.exp(inp1))\n",
    "print(math.log(inp1, inp2))\n",
    "print(math.log2(inp1))\n",
    "print(math.log10(inp1))\n",
    "print(math.pow(inp1, inp2))\n",
    "print(math.sqrt(inp1))\n",
    "print(math.cos(inp1))\n",
    "print(math.sin(inp1))\n",
    "print(math.tan(inp1))\n",
    "print(math.acos(inp1)) # -1 < x < 1\n",
    "print(math.asin(inp1))\n",
    "print(math.atan(inp1))"
   ]
  },
  {
   "cell_type": "code",
   "execution_count": 113,
   "id": "0f68bf4a",
   "metadata": {},
   "outputs": [],
   "source": [
    "\n"
   ]
  },
  {
   "cell_type": "code",
   "execution_count": null,
   "id": "f95293e2",
   "metadata": {},
   "outputs": [],
   "source": []
  },
  {
   "cell_type": "code",
   "execution_count": null,
   "id": "13e1af79",
   "metadata": {},
   "outputs": [],
   "source": []
  }
 ],
 "metadata": {
  "kernelspec": {
   "display_name": "Python 3 (ipykernel)",
   "language": "python",
   "name": "python3"
  },
  "language_info": {
   "codemirror_mode": {
    "name": "ipython",
    "version": 3
   },
   "file_extension": ".py",
   "mimetype": "text/x-python",
   "name": "python",
   "nbconvert_exporter": "python",
   "pygments_lexer": "ipython3",
   "version": "3.7.12"
  }
 },
 "nbformat": 4,
 "nbformat_minor": 5
}
