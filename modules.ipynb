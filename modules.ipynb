{
 "cells": [
  {
   "cell_type": "markdown",
   "id": "47dabc76",
   "metadata": {},
   "source": [
    "### 21.02.2022\n",
    "# Modules"
   ]
  },
  {
   "cell_type": "markdown",
   "id": "73c512e5",
   "metadata": {},
   "source": [
    "## Intro to Modules"
   ]
  },
  {
   "cell_type": "code",
   "execution_count": 5,
   "id": "88a5d922",
   "metadata": {},
   "outputs": [
    {
     "name": "stdout",
     "output_type": "stream",
     "text": [
      "                                  2022\n",
      "\n",
      "      January                   February                   March\n",
      "Mo Tu We Th Fr Sa Su      Mo Tu We Th Fr Sa Su      Mo Tu We Th Fr Sa Su\n",
      "                1  2          1  2  3  4  5  6          1  2  3  4  5  6\n",
      " 3  4  5  6  7  8  9       7  8  9 10 11 12 13       7  8  9 10 11 12 13\n",
      "10 11 12 13 14 15 16      14 15 16 17 18 19 20      14 15 16 17 18 19 20\n",
      "17 18 19 20 21 22 23      21 22 23 24 25 26 27      21 22 23 24 25 26 27\n",
      "24 25 26 27 28 29 30      28                        28 29 30 31\n",
      "31\n",
      "\n",
      "       April                      May                       June\n",
      "Mo Tu We Th Fr Sa Su      Mo Tu We Th Fr Sa Su      Mo Tu We Th Fr Sa Su\n",
      "             1  2  3                         1             1  2  3  4  5\n",
      " 4  5  6  7  8  9 10       2  3  4  5  6  7  8       6  7  8  9 10 11 12\n",
      "11 12 13 14 15 16 17       9 10 11 12 13 14 15      13 14 15 16 17 18 19\n",
      "18 19 20 21 22 23 24      16 17 18 19 20 21 22      20 21 22 23 24 25 26\n",
      "25 26 27 28 29 30         23 24 25 26 27 28 29      27 28 29 30\n",
      "                          30 31\n",
      "\n",
      "        July                     August                  September\n",
      "Mo Tu We Th Fr Sa Su      Mo Tu We Th Fr Sa Su      Mo Tu We Th Fr Sa Su\n",
      "             1  2  3       1  2  3  4  5  6  7                1  2  3  4\n",
      " 4  5  6  7  8  9 10       8  9 10 11 12 13 14       5  6  7  8  9 10 11\n",
      "11 12 13 14 15 16 17      15 16 17 18 19 20 21      12 13 14 15 16 17 18\n",
      "18 19 20 21 22 23 24      22 23 24 25 26 27 28      19 20 21 22 23 24 25\n",
      "25 26 27 28 29 30 31      29 30 31                  26 27 28 29 30\n",
      "\n",
      "      October                   November                  December\n",
      "Mo Tu We Th Fr Sa Su      Mo Tu We Th Fr Sa Su      Mo Tu We Th Fr Sa Su\n",
      "                1  2          1  2  3  4  5  6                1  2  3  4\n",
      " 3  4  5  6  7  8  9       7  8  9 10 11 12 13       5  6  7  8  9 10 11\n",
      "10 11 12 13 14 15 16      14 15 16 17 18 19 20      12 13 14 15 16 17 18\n",
      "17 18 19 20 21 22 23      21 22 23 24 25 26 27      19 20 21 22 23 24 25\n",
      "24 25 26 27 28 29 30      28 29 30                  26 27 28 29 30 31\n",
      "31\n",
      "None\n"
     ]
    }
   ],
   "source": [
    "import calendar\n",
    "year1 = calendar.prcal(2022)\n",
    "print(year1)"
   ]
  },
  {
   "cell_type": "code",
   "execution_count": 6,
   "id": "b8cbc2a5",
   "metadata": {},
   "outputs": [
    {
     "name": "stdout",
     "output_type": "stream",
     "text": [
      "                                  2020\n",
      "\n",
      "      January                   February                   March\n",
      "Mo Tu We Th Fr Sa Su      Mo Tu We Th Fr Sa Su      Mo Tu We Th Fr Sa Su\n",
      "       1  2  3  4  5                      1  2                         1\n",
      " 6  7  8  9 10 11 12       3  4  5  6  7  8  9       2  3  4  5  6  7  8\n",
      "13 14 15 16 17 18 19      10 11 12 13 14 15 16       9 10 11 12 13 14 15\n",
      "20 21 22 23 24 25 26      17 18 19 20 21 22 23      16 17 18 19 20 21 22\n",
      "27 28 29 30 31            24 25 26 27 28 29         23 24 25 26 27 28 29\n",
      "                                                    30 31\n",
      "\n",
      "       April                      May                       June\n",
      "Mo Tu We Th Fr Sa Su      Mo Tu We Th Fr Sa Su      Mo Tu We Th Fr Sa Su\n",
      "       1  2  3  4  5                   1  2  3       1  2  3  4  5  6  7\n",
      " 6  7  8  9 10 11 12       4  5  6  7  8  9 10       8  9 10 11 12 13 14\n",
      "13 14 15 16 17 18 19      11 12 13 14 15 16 17      15 16 17 18 19 20 21\n",
      "20 21 22 23 24 25 26      18 19 20 21 22 23 24      22 23 24 25 26 27 28\n",
      "27 28 29 30               25 26 27 28 29 30 31      29 30\n",
      "\n",
      "        July                     August                  September\n",
      "Mo Tu We Th Fr Sa Su      Mo Tu We Th Fr Sa Su      Mo Tu We Th Fr Sa Su\n",
      "       1  2  3  4  5                      1  2          1  2  3  4  5  6\n",
      " 6  7  8  9 10 11 12       3  4  5  6  7  8  9       7  8  9 10 11 12 13\n",
      "13 14 15 16 17 18 19      10 11 12 13 14 15 16      14 15 16 17 18 19 20\n",
      "20 21 22 23 24 25 26      17 18 19 20 21 22 23      21 22 23 24 25 26 27\n",
      "27 28 29 30 31            24 25 26 27 28 29 30      28 29 30\n",
      "                          31\n",
      "\n",
      "      October                   November                  December\n",
      "Mo Tu We Th Fr Sa Su      Mo Tu We Th Fr Sa Su      Mo Tu We Th Fr Sa Su\n",
      "          1  2  3  4                         1          1  2  3  4  5  6\n",
      " 5  6  7  8  9 10 11       2  3  4  5  6  7  8       7  8  9 10 11 12 13\n",
      "12 13 14 15 16 17 18       9 10 11 12 13 14 15      14 15 16 17 18 19 20\n",
      "19 20 21 22 23 24 25      16 17 18 19 20 21 22      21 22 23 24 25 26 27\n",
      "26 27 28 29 30 31         23 24 25 26 27 28 29      28 29 30 31\n",
      "                          30\n",
      "None\n"
     ]
    }
   ],
   "source": [
    "from calendar import prcal\n",
    "year2 = prcal(2020)\n",
    "print(year2)"
   ]
  },
  {
   "cell_type": "code",
   "execution_count": 3,
   "id": "b3524cb7",
   "metadata": {},
   "outputs": [
    {
     "name": "stdout",
     "output_type": "stream",
     "text": [
      "That is a computer choice: 32\n",
      "\n",
      "There is a number you have to guess!\n",
      "\n",
      "What is your first guess: 22\n",
      "Next guess: 32\n",
      "You guessed correctly!\n",
      "Number of your attempts: 2\n"
     ]
    }
   ],
   "source": [
    "# Ecercise 33\n",
    "import random\n",
    "computer_choice = random.randint(0, 100)\n",
    "print(f\"That is a computer choice: {computer_choice}\")\n",
    "print(\"\")\n",
    "print(\"There is a number you have to guess!\")\n",
    "print(\"\")\n",
    "your_choice = int(input(\"What is your first guess: \"))\n",
    "\n",
    "\n",
    "i = 1\n",
    "while your_choice != computer_choice:\n",
    "    your_choice = int(input(\"Next guess: \"))\n",
    "    if your_choice > computer_choice:\n",
    "        print(\"Give a smaller number\")\n",
    "        i += 1\n",
    "    elif your_choice < computer_choice:\n",
    "        print(\"Give a bigger number\")\n",
    "        i += 1\n",
    "    else:\n",
    "        print(\"You guessed correctly!\")\n",
    "        i += 1\n",
    "        #print(i)\n",
    "print(f\"Number of your attempts: {i}\")"
   ]
  },
  {
   "cell_type": "markdown",
   "id": "68ebbe8f",
   "metadata": {},
   "source": [
    "## OS"
   ]
  },
  {
   "cell_type": "code",
   "execution_count": 6,
   "id": "1e4430eb",
   "metadata": {},
   "outputs": [
    {
     "name": "stdout",
     "output_type": "stream",
     "text": [
      "\u001b[H\u001b[2J"
     ]
    },
    {
     "data": {
      "text/plain": [
       "0"
      ]
     },
     "execution_count": 6,
     "metadata": {},
     "output_type": "execute_result"
    }
   ],
   "source": [
    "import os\n",
    "os.system(\"clear\")"
   ]
  },
  {
   "cell_type": "code",
   "execution_count": 13,
   "id": "526c9b5d",
   "metadata": {},
   "outputs": [
    {
     "name": "stdout",
     "output_type": "stream",
     "text": [
      "total 176\n",
      "drwxr-xr-x  13 vera  staff    416 Feb 21 13:37 .\n",
      "drwxr-xr-x   3 vera  staff     96 Feb 14 09:06 ..\n",
      "drwxr-xr-x  12 vera  staff    384 Feb 18 22:33 .git\n",
      "-rw-r--r--   1 vera  staff     19 Feb 18 22:21 .gitignore\n",
      "drwxr-xr-x   4 vera  staff    128 Feb 21 12:42 .ipynb_checkpoints\n",
      "-rw-r--r--   1 vera  staff  14535 Feb 21 11:49 functions.ipynb\n",
      "-rw-r--r--   1 vera  staff   3308 Feb 18 22:06 functions.py\n",
      "-rw-r--r--   1 vera  staff   5417 Feb 14 15:33 lists.py\n",
      "-rw-r--r--   1 vera  staff   6470 Feb 16 22:09 lists_dictionaries.py\n",
      "-rw-r--r--   1 vera  staff  21909 Feb 18 15:08 loops.ipynb\n",
      "-rw-r--r--   1 vera  staff   9949 Feb 21 13:35 modules.ipynb\n",
      "-rw-r--r--   1 vera  staff   5542 Feb 16 21:35 nested_dictionaries.ipynb\n",
      "-rw-r--r--   1 vera  staff   2896 Feb 16 21:47 sets_tuples.py\n"
     ]
    },
    {
     "data": {
      "text/plain": [
       "0"
      ]
     },
     "execution_count": 13,
     "metadata": {},
     "output_type": "execute_result"
    }
   ],
   "source": [
    "os.system(\"ls -la\")"
   ]
  },
  {
   "cell_type": "code",
   "execution_count": 17,
   "id": "d3d06391",
   "metadata": {},
   "outputs": [
    {
     "name": "stdout",
     "output_type": "stream",
     "text": [
      "total 176\n",
      "drwxr-xr-x  14 vera  staff    448 Feb 21 13:39 .\n",
      "drwxr-xr-x   3 vera  staff     96 Feb 14 09:06 ..\n",
      "drwxr-xr-x  12 vera  staff    384 Feb 18 22:33 .git\n",
      "-rw-r--r--   1 vera  staff     19 Feb 18 22:21 .gitignore\n",
      "drwxr-xr-x   4 vera  staff    128 Feb 21 12:42 .ipynb_checkpoints\n",
      "-rw-r--r--   1 vera  staff  14535 Feb 21 11:49 functions.ipynb\n",
      "-rw-r--r--   1 vera  staff   3308 Feb 18 22:06 functions.py\n",
      "-rw-r--r--   1 vera  staff   5417 Feb 14 15:33 lists.py\n",
      "-rw-r--r--   1 vera  staff   6470 Feb 16 22:09 lists_dictionaries.py\n",
      "-rw-r--r--   1 vera  staff  21909 Feb 18 15:08 loops.ipynb\n",
      "-rw-r--r--   1 vera  staff  10205 Feb 21 13:37 modules.ipynb\n",
      "-rw-r--r--   1 vera  staff   5542 Feb 16 21:35 nested_dictionaries.ipynb\n",
      "-rw-r--r--   1 vera  staff   2896 Feb 16 21:47 sets_tuples.py\n",
      "drwxr-xr-x   2 vera  staff     64 Feb 21 13:39 test_os_module\n"
     ]
    },
    {
     "data": {
      "text/plain": [
       "0"
      ]
     },
     "execution_count": 17,
     "metadata": {},
     "output_type": "execute_result"
    }
   ],
   "source": [
    "os.mkdir(\"test_os_module\")\n",
    "os.system(\"ls -la\")\n",
    "#os.chdir(\"test_os\")"
   ]
  },
  {
   "cell_type": "code",
   "execution_count": 16,
   "id": "47964b95",
   "metadata": {},
   "outputs": [
    {
     "data": {
      "text/plain": [
       "0"
      ]
     },
     "execution_count": 16,
     "metadata": {},
     "output_type": "execute_result"
    }
   ],
   "source": [
    "os.system(\"rm -r test_os_module\")\n"
   ]
  },
  {
   "cell_type": "code",
   "execution_count": 7,
   "id": "6c522a7c",
   "metadata": {},
   "outputs": [
    {
     "data": {
      "text/plain": [
       "'/Users/vera/Desktop/CQ/Python/My_py/PythonDataStructures'"
      ]
     },
     "execution_count": 7,
     "metadata": {},
     "output_type": "execute_result"
    }
   ],
   "source": [
    "os.getcwd()"
   ]
  },
  {
   "cell_type": "code",
   "execution_count": 23,
   "id": "cfde780a",
   "metadata": {},
   "outputs": [],
   "source": [
    "Dirs = [\"Hello\", \"Hi\"]\n",
    "for Dir in Dirs:\n",
    "    #os.mkdir(Dir) # an easier way\n",
    "    os.system(\"mkdir \" + Dir)\n",
    "    "
   ]
  },
  {
   "cell_type": "code",
   "execution_count": 35,
   "id": "74ffc988",
   "metadata": {},
   "outputs": [
    {
     "name": "stdout",
     "output_type": "stream",
     "text": [
      "\u001b[36mHello\u001b[m\u001b[m                     lists.py                  nested_dictionaries.ipynb\r\n",
      "\u001b[36mHi\u001b[m\u001b[m                        lists_dictionaries.py     sets_tuples.py\r\n",
      "functions.ipynb           loops.ipynb               \u001b[36mtest_os\u001b[m\u001b[m\r\n",
      "functions.py              modules.ipynb\r\n"
     ]
    }
   ],
   "source": [
    "!ls"
   ]
  },
  {
   "cell_type": "code",
   "execution_count": 29,
   "id": "a001279d",
   "metadata": {},
   "outputs": [],
   "source": [
    "os.makedirs(\"test_os/hello/world\", exist_ok = True)\n"
   ]
  },
  {
   "cell_type": "code",
   "execution_count": 39,
   "id": "b215b4a6",
   "metadata": {},
   "outputs": [
    {
     "name": "stdout",
     "output_type": "stream",
     "text": [
      "functions.ipynb           lists_dictionaries.py     nested_dictionaries.ipynb\r\n",
      "functions.py              loops.ipynb               sets_tuples.py\r\n",
      "lists.py                  modules.ipynb\r\n"
     ]
    }
   ],
   "source": [
    "!rm -r test_os\n",
    "\n",
    "!ls\n"
   ]
  },
  {
   "cell_type": "code",
   "execution_count": 115,
   "id": "26525e37",
   "metadata": {},
   "outputs": [],
   "source": [
    "# Exercise 34\n",
    "curdir = \"/Users/vera/Desktop/CQ/Python/My_py/PythonDataStructures/structure/sub_str\"\n",
    "import os\n",
    "#os.mkdir(\"structure\")\n",
    "#os.makedirs(\"structure/sub_str\")\n",
    "#os.chdir(\"structure/sub_str\")\n",
    "folders = [\"fld1\", \"fld2\", \"fld3\", \"fld4\", \"fld5\"]\n",
    "for fld in folders:\n",
    "    os.mkdir(fld)\n",
    "    os.chdir(fld)\n",
    "    os.system(\"touch file.txt\")\n",
    "    os.chdir(curdir)"
   ]
  },
  {
   "cell_type": "markdown",
   "id": "80c083cf",
   "metadata": {},
   "source": [
    "## Math"
   ]
  },
  {
   "cell_type": "code",
   "execution_count": 124,
   "id": "a332aa93",
   "metadata": {},
   "outputs": [
    {
     "name": "stdout",
     "output_type": "stream",
     "text": [
      "False\n",
      "248832.0\n"
     ]
    }
   ],
   "source": [
    "import math\n",
    "var1 = 12\n",
    "var2 = 5\n",
    "print(math.isnan(var1))\n",
    "print(math.pow(var1, var2))"
   ]
  },
  {
   "cell_type": "code",
   "execution_count": 128,
   "id": "97b03372",
   "metadata": {},
   "outputs": [
    {
     "name": "stdout",
     "output_type": "stream",
     "text": [
      "Type the first number2\n",
      "Type the second number3\n",
      "a^b =\n"
     ]
    },
    {
     "data": {
      "text/plain": [
       "8.0"
      ]
     },
     "execution_count": 128,
     "metadata": {},
     "output_type": "execute_result"
    }
   ],
   "source": [
    "def math_ops(a,b):\n",
    "    print(\"a^b =\")\n",
    "    return math.pow(a,b)\n",
    "\n",
    "inp1 = int(input(\"Type the first number\"))\n",
    "inp2 = int(input(\"Type the second number\"))\n",
    "\n",
    "math_ops(inp1, inp2)"
   ]
  },
  {
   "cell_type": "code",
   "execution_count": 146,
   "id": "83797035",
   "metadata": {},
   "outputs": [
    {
     "name": "stdout",
     "output_type": "stream",
     "text": [
      "Type the first number: 1\n",
      "Type the second number: 1\n",
      "2.718281828459045\n",
      "0.0\n",
      "0.0\n",
      "1.0\n",
      "1.0\n",
      "0.5403023058681398\n",
      "0.8414709848078965\n",
      "1.557407724654902\n",
      "0.0\n",
      "1.5707963267948966\n",
      "0.7853981633974483\n"
     ]
    }
   ],
   "source": [
    "inp1 = int(input(\"Type the first number: \"))\n",
    "inp2 = int(input(\"Type the second number: \"))\n",
    "print(math.exp(inp1))\n",
    "#print(math.log(inp1, inp2))\n",
    "print(math.log2(inp1))\n",
    "print(math.log10(inp1))\n",
    "print(math.pow(inp1, inp2))\n",
    "print(math.sqrt(inp1))\n",
    "print(math.cos(inp1))\n",
    "print(math.sin(inp1))\n",
    "print(math.tan(inp1))\n",
    "if inp1 >= -1 and inp2 <=1: \n",
    "    print(math.acos(inp1)) # -1 < x < 1\n",
    "    print(math.asin(inp1))\n",
    "    print(math.atan(inp1))"
   ]
  },
  {
   "cell_type": "code",
   "execution_count": 114,
   "id": "a064c7e0",
   "metadata": {},
   "outputs": [
    {
     "name": "stdout",
     "output_type": "stream",
     "text": [
      "Type the first number: 3\n",
      "Type the second number: 4\n",
      "Select a constat: 1 - Pi, 2 - Euler, 3 - Tau: 4\n",
      "You selection is not correct. Select option 1, 2 or 3.\n",
      "20.085536923187668\n",
      "0.7924812503605781\n",
      "1.584962500721156\n",
      "0.47712125471966244\n",
      "81.0\n",
      "1.7320508075688772\n",
      "-0.9899924966004454\n",
      "0.1411200080598672\n",
      "-0.1425465430742778\n"
     ]
    }
   ],
   "source": [
    "# Exercise 36\n",
    "import math\n",
    "inp1 = int(input(\"Type the first number: \"))\n",
    "inp2 = int(input(\"Type the second number: \"))\n",
    "inp3 = int(input(\"Select a constat: 1 - Pi, 2 - Euler, 3 - Tau: \"))\n",
    "if inp3 not in range(1,4):\n",
    "    print(\"You selection is not correct. Select option 1, 2 or 3.\")\n",
    "elif inp3 == 1 or inp3 == 2 or inp3 ==3: \n",
    "    inp1 = inp1*math.pi\n",
    "    inp2 = inp2*math.pi\n",
    "    inp1 = inp1*math.e\n",
    "    inp2 = inp2*math.e\n",
    "    inp1 = inp1*math.tau\n",
    "    inp2 = inp2*math.tau\n",
    "\n",
    "print(math.exp(inp1))\n",
    "if inp2 > 1:\n",
    "    print(math.log(inp1, inp2))\n",
    "print(math.log2(inp1))\n",
    "print(math.log10(inp1))\n",
    "if inp1 != 0 and inp2 != 0:\n",
    "    print(math.pow(inp1, inp2))\n",
    "print(math.sqrt(inp1))\n",
    "print(math.cos(inp1))\n",
    "print(math.sin(inp1))\n",
    "print(math.tan(inp1))\n",
    "if inp1 >= -1 and inp1 <=1: \n",
    "    print(math.acos(inp1)) # -1 < x < 1\n",
    "    print(math.asin(inp1))\n",
    "    print(math.atan(inp1))"
   ]
  },
  {
   "cell_type": "code",
   "execution_count": 21,
   "id": "27f284f0",
   "metadata": {},
   "outputs": [
    {
     "name": "stdout",
     "output_type": "stream",
     "text": [
      "Define left range border: 33\n",
      "Define right range border: 1000\n",
      "164\n",
      "Define left range border: 22\n",
      "Define right range border: 300\n",
      "27\n",
      "Define left range border: 222\n",
      "Define right range border: 10000\n",
      "4106\n",
      "How many floats between 0 and 1 do you want: 3\n",
      "0.35\n",
      "0.35\n",
      "0.57\n",
      "Type a value for a population avarage:  222\n",
      "Type a value for a population standard deviation: 2\n",
      "219 2\n",
      "Type a value for a population avarage:  333\n",
      "Type a value for a population standard deviation: 3\n",
      "337 2\n",
      "[164, 27, 4106, 0.74, 0.79, 0.77, 219.81, 336.41]\n"
     ]
    },
    {
     "data": {
      "text/plain": [
       "[164, 27, 219.81, 0.79, 336.41, 4106, 0.74, 0.77]"
      ]
     },
     "execution_count": 21,
     "metadata": {},
     "output_type": "execute_result"
    }
   ],
   "source": [
    "# Exercise 37\n",
    "import random\n",
    "my_list = []\n",
    "\n",
    "i = 0\n",
    "number = True\n",
    "while i < 3:\n",
    "    start = int(input(\"Define left range border: \"))\n",
    "    stop = int(input(\"Define right range border: \")) -1\n",
    "    number = random.randint(start, stop)\n",
    "    print(number)\n",
    "    my_list.append(number)\n",
    "    i += 1\n",
    "\n",
    "how_many = int(input(\"How many floats between 0 and 1 do you want: \"))\n",
    "for j in range(how_many):\n",
    "    #print(round(random.random(),2))\n",
    "    my_list.append(round(random.random(),2))\n",
    "\n",
    "k = 0\n",
    "while k < 2:\n",
    "    mu = int(input(\"Type a population avarage:  \"))\n",
    "    sigma = int(input(\"Type a population standard deviation: \"))\n",
    "    print(round(random.gauss(mu, sigma)),2)\n",
    "    my_list.append(round(random.gauss(mu, sigma),2))\n",
    "    k += 1\n",
    "\n",
    "print(my_list)\n",
    "random.shuffle(my_list) # takes lists as an input\n",
    "print(my_list)"
   ]
  },
  {
   "cell_type": "markdown",
   "id": "457531e2",
   "metadata": {},
   "source": [
    "## NumPy"
   ]
  },
  {
   "cell_type": "code",
   "execution_count": 47,
   "id": "8cb6a96b",
   "metadata": {},
   "outputs": [
    {
     "name": "stdout",
     "output_type": "stream",
     "text": [
      "[5 6 7 8]\n",
      "[1. 1. 1. 1. 1.]\n",
      "[0. 0. 0. 0. 0.]\n",
      "[ 0  1  2  3  4  5  6  7  8  9 10 11 12 13 14]\n",
      "[[ 0  1  2  3  4]\n",
      " [ 5  6  7  8  9]\n",
      " [10 11 12 13 14]]\n",
      "[[-1.20401136 -0.96096832 -1.21795163 -0.46560677  1.33555129  0.94856367]\n",
      " [-0.33877693 -0.42661309  0.21826881 -0.78842502 -1.10691231  0.91442512]\n",
      " [ 0.66904372  1.21022544 -0.30448727  0.90852909 -0.20151966  0.33997591]\n",
      " [ 0.78323646 -0.51210607  0.92852908  0.92112588  0.72921193  0.04250813]]\n",
      "26\n",
      "8\n",
      "[[ 0  5 10]\n",
      " [ 1  6 11]\n",
      " [ 2  7 12]\n",
      " [ 3  8 13]\n",
      " [ 4  9 14]]\n"
     ]
    },
    {
     "data": {
      "text/plain": [
       "6"
      ]
     },
     "execution_count": 47,
     "metadata": {},
     "output_type": "execute_result"
    }
   ],
   "source": [
    "import numpy as np\n",
    "my_array1 = np.array([5,6,7,8])\n",
    "print(my_array1)\n",
    "my_array2 = np.ones(5)\n",
    "print(my_array2)\n",
    "my_array3 = np.zeros(5)\n",
    "print(my_array3)\n",
    "my_array4 = np.arange(15)\n",
    "print(my_array4)\n",
    "my_array5 = np.arange(15).reshape(3,5)\n",
    "print(my_array5)\n",
    "my_array6 = np.random.randn(4,6) # 4 - number of sublists, 6 - number of elements in each sublist\n",
    "print(my_array6)\n",
    "sum1 = my_array1.sum()\n",
    "print(sum1)\n",
    "min1 = my_array1.max()\n",
    "print(min1)\n",
    "print(my_array5.transpose())\n",
    "my_array5[1][1] # [row][col]"
   ]
  },
  {
   "cell_type": "code",
   "execution_count": 108,
   "id": "209ef67c",
   "metadata": {},
   "outputs": [
    {
     "name": "stdout",
     "output_type": "stream",
     "text": [
      "[[0. 0. 0. 0. 0. 0. 0. 0. 0. 0. 0. 0. 0. 0. 0. 0. 0. 0. 0. 0. 0. 0. 0. 0.\n",
      "  0.]]\n",
      "[[1. 1. 1. 1. 1. 1. 1. 1.]]\n",
      "[[ 0  1  2  3  4  5  6  7  8  9 10 11 12 13 14 15 16 17 18 19 20 21 22 23\n",
      "  24]]\n",
      "[[4 6 5 5 1 0 2 1 3]]\n",
      "[[ 1  2  3  4  5]\n",
      " [ 6  7  8  9 10]\n",
      " [11 12 13 14 15]\n",
      " [16 17 18 19 20]\n",
      " [21 22 23 24 25]\n",
      " [26 27 28 29 30]]\n",
      "\n",
      "[[ 1  6 11 16 21 26]\n",
      " [ 2  7 12 17 22 27]\n",
      " [ 3  8 13 18 23 28]\n",
      " [ 4  9 14 19 24 29]\n",
      " [ 5 10 15 20 25 30]]\n"
     ]
    }
   ],
   "source": [
    "# Exercise 38\n",
    "import numpy as np\n",
    "ar_zeros = np.zeros(25).reshape(1,25)\n",
    "print(ar_zeros)\n",
    "ar_ones = np.ones(8).reshape(1,8)\n",
    "print(ar_ones)\n",
    "ar_arange = np.arange(25).reshape(1, 25)\n",
    "print(ar_arange)\n",
    "ar_choice = np.random.randint(0, 9, 9).reshape(1,9)\n",
    "print(ar_choice)\n",
    "td = np.arange(1,31).reshape(6,5)\n",
    "print(td)\n",
    "print(\"\")\n",
    "td_trsp = td.transpose()\n",
    "print(td_trsp)\n"
   ]
  },
  {
   "cell_type": "code",
   "execution_count": 111,
   "id": "7365a63d",
   "metadata": {},
   "outputs": [
    {
     "name": "stdout",
     "output_type": "stream",
     "text": [
      "[array([[0., 0., 0., 0., 0., 0., 0., 0., 0., 0., 0., 0., 0., 0., 0., 0.,\n",
      "        0., 0., 0., 0., 0., 0., 0., 0., 0.]]), array([[1., 1., 1., 1., 1., 1., 1., 1.]]), array([[ 0,  1,  2,  3,  4,  5,  6,  7,  8,  9, 10, 11, 12, 13, 14, 15,\n",
      "        16, 17, 18, 19, 20, 21, 22, 23, 24]]), array([[4, 6, 5, 5, 1, 0, 2, 1, 3]]), array([[ 1,  2,  3,  4,  5],\n",
      "       [ 6,  7,  8,  9, 10],\n",
      "       [11, 12, 13, 14, 15],\n",
      "       [16, 17, 18, 19, 20],\n",
      "       [21, 22, 23, 24, 25],\n",
      "       [26, 27, 28, 29, 30]]), array([[ 1,  6, 11, 16, 21, 26],\n",
      "       [ 2,  7, 12, 17, 22, 27],\n",
      "       [ 3,  8, 13, 18, 23, 28],\n",
      "       [ 4,  9, 14, 19, 24, 29],\n",
      "       [ 5, 10, 15, 20, 25, 30]])]\n",
      "This is a sum for array [[0. 0. 0. 0. 0. 0. 0. 0. 0. 0. 0. 0. 0. 0. 0. 0. 0. 0. 0. 0. 0. 0. 0. 0.\n",
      "  0.]]: 0.0\n",
      "This a min for array [[0. 0. 0. 0. 0. 0. 0. 0. 0. 0. 0. 0. 0. 0. 0. 0. 0. 0. 0. 0. 0. 0. 0. 0.\n",
      "  0.]]: 0.0\n",
      "This a max for array [[0. 0. 0. 0. 0. 0. 0. 0. 0. 0. 0. 0. 0. 0. 0. 0. 0. 0. 0. 0. 0. 0. 0. 0.\n",
      "  0.]]: 0.0\n",
      "Number of rows in array [[0. 0. 0. 0. 0. 0. 0. 0. 0. 0. 0. 0. 0. 0. 0. 0. 0. 0. 0. 0. 0. 0. 0. 0.\n",
      "  0.]]: 1\n",
      "Number of columns in array [[0. 0. 0. 0. 0. 0. 0. 0. 0. 0. 0. 0. 0. 0. 0. 0. 0. 0. 0. 0. 0. 0. 0. 0.\n",
      "  0.]]: 25\n",
      "This is a sum for array [[1. 1. 1. 1. 1. 1. 1. 1.]]: 8.0\n",
      "This a min for array [[1. 1. 1. 1. 1. 1. 1. 1.]]: 1.0\n",
      "This a max for array [[1. 1. 1. 1. 1. 1. 1. 1.]]: 1.0\n",
      "Number of rows in array [[1. 1. 1. 1. 1. 1. 1. 1.]]: 1\n",
      "Number of columns in array [[1. 1. 1. 1. 1. 1. 1. 1.]]: 8\n",
      "This is a sum for array [[ 0  1  2  3  4  5  6  7  8  9 10 11 12 13 14 15 16 17 18 19 20 21 22 23\n",
      "  24]]: 300\n",
      "This a min for array [[ 0  1  2  3  4  5  6  7  8  9 10 11 12 13 14 15 16 17 18 19 20 21 22 23\n",
      "  24]]: 0\n",
      "This a max for array [[ 0  1  2  3  4  5  6  7  8  9 10 11 12 13 14 15 16 17 18 19 20 21 22 23\n",
      "  24]]: 24\n",
      "Number of rows in array [[ 0  1  2  3  4  5  6  7  8  9 10 11 12 13 14 15 16 17 18 19 20 21 22 23\n",
      "  24]]: 1\n",
      "Number of columns in array [[ 0  1  2  3  4  5  6  7  8  9 10 11 12 13 14 15 16 17 18 19 20 21 22 23\n",
      "  24]]: 25\n",
      "This is a sum for array [[4 6 5 5 1 0 2 1 3]]: 27\n",
      "This a min for array [[4 6 5 5 1 0 2 1 3]]: 0\n",
      "This a max for array [[4 6 5 5 1 0 2 1 3]]: 6\n",
      "Number of rows in array [[4 6 5 5 1 0 2 1 3]]: 1\n",
      "Number of columns in array [[4 6 5 5 1 0 2 1 3]]: 9\n",
      "This is a sum for array [[ 1  2  3  4  5]\n",
      " [ 6  7  8  9 10]\n",
      " [11 12 13 14 15]\n",
      " [16 17 18 19 20]\n",
      " [21 22 23 24 25]\n",
      " [26 27 28 29 30]]: 465\n",
      "This a min for array [[ 1  2  3  4  5]\n",
      " [ 6  7  8  9 10]\n",
      " [11 12 13 14 15]\n",
      " [16 17 18 19 20]\n",
      " [21 22 23 24 25]\n",
      " [26 27 28 29 30]]: 1\n",
      "This a max for array [[ 1  2  3  4  5]\n",
      " [ 6  7  8  9 10]\n",
      " [11 12 13 14 15]\n",
      " [16 17 18 19 20]\n",
      " [21 22 23 24 25]\n",
      " [26 27 28 29 30]]: 30\n",
      "Number of rows in array [[ 1  2  3  4  5]\n",
      " [ 6  7  8  9 10]\n",
      " [11 12 13 14 15]\n",
      " [16 17 18 19 20]\n",
      " [21 22 23 24 25]\n",
      " [26 27 28 29 30]]: 6\n",
      "Number of columns in array [[ 1  2  3  4  5]\n",
      " [ 6  7  8  9 10]\n",
      " [11 12 13 14 15]\n",
      " [16 17 18 19 20]\n",
      " [21 22 23 24 25]\n",
      " [26 27 28 29 30]]: 5\n",
      "This is a sum for array [[ 1  6 11 16 21 26]\n",
      " [ 2  7 12 17 22 27]\n",
      " [ 3  8 13 18 23 28]\n",
      " [ 4  9 14 19 24 29]\n",
      " [ 5 10 15 20 25 30]]: 465\n",
      "This a min for array [[ 1  6 11 16 21 26]\n",
      " [ 2  7 12 17 22 27]\n",
      " [ 3  8 13 18 23 28]\n",
      " [ 4  9 14 19 24 29]\n",
      " [ 5 10 15 20 25 30]]: 1\n",
      "This a max for array [[ 1  6 11 16 21 26]\n",
      " [ 2  7 12 17 22 27]\n",
      " [ 3  8 13 18 23 28]\n",
      " [ 4  9 14 19 24 29]\n",
      " [ 5 10 15 20 25 30]]: 30\n",
      "Number of rows in array [[ 1  6 11 16 21 26]\n",
      " [ 2  7 12 17 22 27]\n",
      " [ 3  8 13 18 23 28]\n",
      " [ 4  9 14 19 24 29]\n",
      " [ 5 10 15 20 25 30]]: 5\n",
      "Number of columns in array [[ 1  6 11 16 21 26]\n",
      " [ 2  7 12 17 22 27]\n",
      " [ 3  8 13 18 23 28]\n",
      " [ 4  9 14 19 24 29]\n",
      " [ 5 10 15 20 25 30]]: 6\n"
     ]
    }
   ],
   "source": [
    "arrays = [ar_zeros, ar_ones, ar_arange, ar_choice, td, td_trsp]\n",
    "print(arrays)\n",
    "for array in arrays:\n",
    "    print(f\"This is a sum for array {array}: {array.sum()}\")\n",
    "    print(f\"This a min for array {array}: {array.min()}\")\n",
    "    print(f\"This a max for array {array}: {array.max()}\")\n",
    "    a, b = np.shape(array)\n",
    "    print(f\"Number of rows in array {array}: {a}\")\n",
    "    print(f\"Number of columns in array {array}: {b}\")\n",
    "    \n",
    "        \n",
    "        "
   ]
  },
  {
   "cell_type": "markdown",
   "id": "4345b8c4",
   "metadata": {},
   "source": [
    "## SciPy\n"
   ]
  },
  {
   "cell_type": "code",
   "execution_count": 115,
   "id": "8bc73b99",
   "metadata": {},
   "outputs": [],
   "source": [
    "# a collection math algorithms on top on NumPy\n",
    "# linalg (linear algebra) and so on"
   ]
  },
  {
   "cell_type": "markdown",
   "id": "ac335d9a",
   "metadata": {},
   "source": [
    "## Pandas"
   ]
  },
  {
   "cell_type": "code",
   "execution_count": 117,
   "id": "6e8a0815",
   "metadata": {},
   "outputs": [],
   "source": [
    "import pandas as pd\n"
   ]
  },
  {
   "cell_type": "code",
   "execution_count": 127,
   "id": "3360c9d3",
   "metadata": {},
   "outputs": [],
   "source": [
    "df = pd.DataFrame(np.random.randint(0, 9, 8).reshape(2,4), index =[\"Test1\", \"Test2\"], columns=list(\"ABCD\"))"
   ]
  },
  {
   "cell_type": "code",
   "execution_count": 128,
   "id": "b0498af6",
   "metadata": {},
   "outputs": [
    {
     "data": {
      "text/html": [
       "<div>\n",
       "<style scoped>\n",
       "    .dataframe tbody tr th:only-of-type {\n",
       "        vertical-align: middle;\n",
       "    }\n",
       "\n",
       "    .dataframe tbody tr th {\n",
       "        vertical-align: top;\n",
       "    }\n",
       "\n",
       "    .dataframe thead th {\n",
       "        text-align: right;\n",
       "    }\n",
       "</style>\n",
       "<table border=\"1\" class=\"dataframe\">\n",
       "  <thead>\n",
       "    <tr style=\"text-align: right;\">\n",
       "      <th></th>\n",
       "      <th>A</th>\n",
       "      <th>B</th>\n",
       "      <th>C</th>\n",
       "      <th>D</th>\n",
       "    </tr>\n",
       "  </thead>\n",
       "  <tbody>\n",
       "    <tr>\n",
       "      <th>Test1</th>\n",
       "      <td>2</td>\n",
       "      <td>2</td>\n",
       "      <td>3</td>\n",
       "      <td>7</td>\n",
       "    </tr>\n",
       "    <tr>\n",
       "      <th>Test2</th>\n",
       "      <td>4</td>\n",
       "      <td>0</td>\n",
       "      <td>8</td>\n",
       "      <td>5</td>\n",
       "    </tr>\n",
       "  </tbody>\n",
       "</table>\n",
       "</div>"
      ],
      "text/plain": [
       "       A  B  C  D\n",
       "Test1  2  2  3  7\n",
       "Test2  4  0  8  5"
      ]
     },
     "execution_count": 128,
     "metadata": {},
     "output_type": "execute_result"
    }
   ],
   "source": [
    "df"
   ]
  },
  {
   "cell_type": "code",
   "execution_count": 129,
   "id": "90153d38",
   "metadata": {},
   "outputs": [
    {
     "data": {
      "text/plain": [
       "2"
      ]
     },
     "execution_count": 129,
     "metadata": {},
     "output_type": "execute_result"
    }
   ],
   "source": [
    "df.loc[\"Test1\", \"A\"]"
   ]
  },
  {
   "cell_type": "code",
   "execution_count": 130,
   "id": "080087c9",
   "metadata": {},
   "outputs": [
    {
     "data": {
      "text/plain": [
       "2"
      ]
     },
     "execution_count": 130,
     "metadata": {},
     "output_type": "execute_result"
    }
   ],
   "source": [
    "df.iloc[0][1]"
   ]
  },
  {
   "cell_type": "code",
   "execution_count": 132,
   "id": "b42c69a3",
   "metadata": {},
   "outputs": [
    {
     "data": {
      "text/html": [
       "<div>\n",
       "<style scoped>\n",
       "    .dataframe tbody tr th:only-of-type {\n",
       "        vertical-align: middle;\n",
       "    }\n",
       "\n",
       "    .dataframe tbody tr th {\n",
       "        vertical-align: top;\n",
       "    }\n",
       "\n",
       "    .dataframe thead th {\n",
       "        text-align: right;\n",
       "    }\n",
       "</style>\n",
       "<table border=\"1\" class=\"dataframe\">\n",
       "  <thead>\n",
       "    <tr style=\"text-align: right;\">\n",
       "      <th></th>\n",
       "      <th>A</th>\n",
       "      <th>B</th>\n",
       "      <th>C</th>\n",
       "      <th>D</th>\n",
       "    </tr>\n",
       "  </thead>\n",
       "  <tbody>\n",
       "    <tr>\n",
       "      <th>Test1</th>\n",
       "      <td>77</td>\n",
       "      <td>2</td>\n",
       "      <td>3</td>\n",
       "      <td>7</td>\n",
       "    </tr>\n",
       "    <tr>\n",
       "      <th>Test2</th>\n",
       "      <td>4</td>\n",
       "      <td>0</td>\n",
       "      <td>8</td>\n",
       "      <td>5</td>\n",
       "    </tr>\n",
       "  </tbody>\n",
       "</table>\n",
       "</div>"
      ],
      "text/plain": [
       "        A  B  C  D\n",
       "Test1  77  2  3  7\n",
       "Test2   4  0  8  5"
      ]
     },
     "execution_count": 132,
     "metadata": {},
     "output_type": "execute_result"
    }
   ],
   "source": [
    "df.loc[\"Test1\", \"A\"] = 77\n",
    "df"
   ]
  },
  {
   "cell_type": "code",
   "execution_count": 133,
   "id": "e5a30a51",
   "metadata": {},
   "outputs": [
    {
     "data": {
      "text/plain": [
       "A    81\n",
       "B     2\n",
       "C    11\n",
       "D    12\n",
       "dtype: int64"
      ]
     },
     "execution_count": 133,
     "metadata": {},
     "output_type": "execute_result"
    }
   ],
   "source": [
    "df.sum() # colomn-wise\n"
   ]
  },
  {
   "cell_type": "code",
   "execution_count": 134,
   "id": "1a60859d",
   "metadata": {},
   "outputs": [
    {
     "data": {
      "text/plain": [
       "Test1    89\n",
       "Test2    17\n",
       "dtype: int64"
      ]
     },
     "execution_count": 134,
     "metadata": {},
     "output_type": "execute_result"
    }
   ],
   "source": [
    "df.sum(axis=1) # row-wise"
   ]
  },
  {
   "cell_type": "code",
   "execution_count": 172,
   "id": "95e9e035",
   "metadata": {},
   "outputs": [
    {
     "name": "stdout",
     "output_type": "stream",
     "text": [
      "Test1\n",
      "Test2\n",
      "Test3\n",
      "Test4\n",
      "A\n",
      "B\n",
      "C\n",
      "D\n",
      "E\n",
      "F\n"
     ]
    }
   ],
   "source": [
    "df.index\n",
    "for index in df.index:\n",
    "    print(index)\n",
    "for column in df.columns:\n",
    "    print(column)"
   ]
  },
  {
   "cell_type": "code",
   "execution_count": 186,
   "id": "d06e5a1f",
   "metadata": {},
   "outputs": [
    {
     "name": "stdout",
     "output_type": "stream",
     "text": [
      "The original dataframe:\n",
      "          A         B         C         D         E         F\n",
      "1  0.046686  0.234540  0.190130  0.360170  0.561667  0.666582\n",
      "2  0.204602  0.387193  0.203753  0.571192  0.067615  0.046890\n",
      "3  0.099931  0.624980  0.151681  0.338485  0.363460  0.328995\n",
      "4  0.672283  0.936226  0.551569  0.158393  0.975755  0.130240\n",
      "**************************************************************\n",
      "The sorted dataframes:\n",
      "Column A\n",
      "          A         B         C         D         E         F\n",
      "1  0.046686  0.234540  0.190130  0.360170  0.561667  0.666582\n",
      "3  0.099931  0.624980  0.151681  0.338485  0.363460  0.328995\n",
      "2  0.204602  0.387193  0.203753  0.571192  0.067615  0.046890\n",
      "4  0.672283  0.936226  0.551569  0.158393  0.975755  0.130240\n",
      "**************************************************************\n",
      "Column B\n",
      "          A         B         C         D         E         F\n",
      "1  0.046686  0.234540  0.190130  0.360170  0.561667  0.666582\n",
      "2  0.204602  0.387193  0.203753  0.571192  0.067615  0.046890\n",
      "3  0.099931  0.624980  0.151681  0.338485  0.363460  0.328995\n",
      "4  0.672283  0.936226  0.551569  0.158393  0.975755  0.130240\n",
      "**************************************************************\n",
      "Column C\n",
      "          A         B         C         D         E         F\n",
      "3  0.099931  0.624980  0.151681  0.338485  0.363460  0.328995\n",
      "1  0.046686  0.234540  0.190130  0.360170  0.561667  0.666582\n",
      "2  0.204602  0.387193  0.203753  0.571192  0.067615  0.046890\n",
      "4  0.672283  0.936226  0.551569  0.158393  0.975755  0.130240\n",
      "**************************************************************\n",
      "Column D\n",
      "          A         B         C         D         E         F\n",
      "4  0.672283  0.936226  0.551569  0.158393  0.975755  0.130240\n",
      "3  0.099931  0.624980  0.151681  0.338485  0.363460  0.328995\n",
      "1  0.046686  0.234540  0.190130  0.360170  0.561667  0.666582\n",
      "2  0.204602  0.387193  0.203753  0.571192  0.067615  0.046890\n",
      "**************************************************************\n",
      "Column E\n",
      "          A         B         C         D         E         F\n",
      "2  0.204602  0.387193  0.203753  0.571192  0.067615  0.046890\n",
      "3  0.099931  0.624980  0.151681  0.338485  0.363460  0.328995\n",
      "1  0.046686  0.234540  0.190130  0.360170  0.561667  0.666582\n",
      "4  0.672283  0.936226  0.551569  0.158393  0.975755  0.130240\n",
      "**************************************************************\n",
      "Column F\n",
      "          A         B         C         D         E         F\n",
      "2  0.204602  0.387193  0.203753  0.571192  0.067615  0.046890\n",
      "4  0.672283  0.936226  0.551569  0.158393  0.975755  0.130240\n",
      "3  0.099931  0.624980  0.151681  0.338485  0.363460  0.328995\n",
      "1  0.046686  0.234540  0.190130  0.360170  0.561667  0.666582\n",
      "**************************************************************\n",
      "Stat summary:\n",
      "              A         B         C         D         E         F\n",
      "count  4.000000  4.000000  4.000000  4.000000  4.000000  4.000000\n",
      "mean   0.255876  0.545735  0.274283  0.357060  0.492124  0.293177\n",
      "std    0.285250  0.305909  0.186168  0.168993  0.381007  0.275633\n",
      "min    0.046686  0.234540  0.151681  0.158393  0.067615  0.046890\n",
      "25%    0.086620  0.349030  0.180518  0.293462  0.289498  0.109403\n",
      "50%    0.152267  0.506087  0.196942  0.349328  0.462563  0.229618\n",
      "75%    0.321523  0.702792  0.290707  0.412926  0.665189  0.413392\n",
      "max    0.672283  0.936226  0.551569  0.571192  0.975755  0.666582\n"
     ]
    }
   ],
   "source": [
    "# Exercise 39\n",
    "df1 = pd.DataFrame(np.random.random(24).reshape(4,6), index =[\"1\", \"2\", \"3\", \"4\"], columns=list(\"ABCDEF\"))\n",
    "print(\"The original dataframe:\")\n",
    "print(df1)\n",
    "print(\"*\"*62)\n",
    "print(\"The sorted dataframes:\")\n",
    "for column in df1.columns:\n",
    "    print(f\"Column {column}\")\n",
    "    print(df1.sort_values(column))\n",
    "    print(\"*\"*62)\n",
    "print(\"Stat summary:\")\n",
    "print(df1.describe()) # statistical summary\n",
    "    "
   ]
  },
  {
   "cell_type": "code",
   "execution_count": 188,
   "id": "c5f4c010",
   "metadata": {},
   "outputs": [],
   "source": [
    "from pandas_profiling import ProfileReport"
   ]
  },
  {
   "cell_type": "code",
   "execution_count": 191,
   "id": "55daf689",
   "metadata": {},
   "outputs": [],
   "source": [
    "profile = ProfileReport(df)\n",
    "#profile"
   ]
  },
  {
   "cell_type": "code",
   "execution_count": null,
   "id": "b56a379d",
   "metadata": {},
   "outputs": [],
   "source": []
  }
 ],
 "metadata": {
  "kernelspec": {
   "display_name": "Python 3 (ipykernel)",
   "language": "python",
   "name": "python3"
  },
  "language_info": {
   "codemirror_mode": {
    "name": "ipython",
    "version": 3
   },
   "file_extension": ".py",
   "mimetype": "text/x-python",
   "name": "python",
   "nbconvert_exporter": "python",
   "pygments_lexer": "ipython3",
   "version": "3.7.12"
  }
 },
 "nbformat": 4,
 "nbformat_minor": 5
}
