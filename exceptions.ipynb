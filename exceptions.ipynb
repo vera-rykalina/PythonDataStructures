{
 "cells": [
  {
   "cell_type": "markdown",
   "id": "98dd0681",
   "metadata": {},
   "source": [
    "## 23.02.2022\n",
    "# Exceptions"
   ]
  },
  {
   "cell_type": "code",
   "execution_count": 12,
   "id": "3941f111",
   "metadata": {},
   "outputs": [
    {
     "name": "stdout",
     "output_type": "stream",
     "text": [
      "Type a number: hello\n",
      "invalid literal for int() with base 10: 'hello'\n"
     ]
    }
   ],
   "source": [
    "# Example\n",
    "\n",
    "base = 10\n",
    "try: \n",
    "    number = int(input(\"Type a number: \"))\n",
    "    div = base/number\n",
    "except ValueError as e:\n",
    "    print(e)\n",
    "except ZeroDivisionError as e:\n",
    "    print(e)\n",
    "except:\n",
    "    pass\n",
    "else:\n",
    "    print(number)\n",
    "finally:\n",
    "    print(number)\n",
    "    print(div)"
   ]
  },
  {
   "cell_type": "code",
   "execution_count": 61,
   "id": "c9f74e84",
   "metadata": {},
   "outputs": [
    {
     "name": "stdout",
     "output_type": "stream",
     "text": [
      "Your number: 55\n",
      "23 devided by 55 is 0.41818181818181815\n",
      "Mission complete\n"
     ]
    }
   ],
   "source": [
    "# Exercise 41\n",
    "import random\n",
    "random_int = random.randint(0,100)\n",
    "#print(random_int)\n",
    "\n",
    "try:\n",
    "    user_int = int(input(\"Your number: \"))\n",
    "    value_div = random_int/user_int\n",
    "except ValueError as e:\n",
    "    print(e)\n",
    "except ZeroDivisionError as e:\n",
    "    print(e)\n",
    "except:\n",
    "    pass\n",
    "else:\n",
    "    print(f\"{random_int} devided by {user_int} is {value_div}\")\n",
    "finally:\n",
    "    print(\"Mission complete\")\n"
   ]
  },
  {
   "cell_type": "code",
   "execution_count": 64,
   "id": "8b8f8f13",
   "metadata": {},
   "outputs": [
    {
     "name": "stdout",
     "output_type": "stream",
     "text": [
      "What is your number? 8\n",
      "You number is out of range! \n"
     ]
    }
   ],
   "source": [
    "try:\n",
    "    input1 = int(input(\"What is your number? \"))\n",
    "    if input1 not in [1,2,3,4,5]:\n",
    "                       raise RuntimeError(\"Your input number is out of range! \")\n",
    "except RuntimeError:\n",
    "                       print(\"You number is out of range! \")\n",
    "except:\n",
    "                       pass\n",
    "                   "
   ]
  },
  {
   "cell_type": "code",
   "execution_count": 3,
   "id": "74f525a7",
   "metadata": {},
   "outputs": [
    {
     "name": "stdout",
     "output_type": "stream",
     "text": [
      "Computer's number: 1\n",
      "What is your number? 3\n",
      "You guessed it wrong\n",
      "Your guess number: 1\n",
      "Computer's number: 1\n",
      "What is your number? 2\n",
      "You guessed it wrong\n",
      "Your guess number: 2\n",
      "Computer's number: 1\n",
      "What is your number? tt\n",
      "invalid literal for int() with base 10: 'tt'\n",
      "Computer's number: 1\n",
      "What is your number? rr\n",
      "invalid literal for int() with base 10: 'rr'\n",
      "Computer's number: 3\n",
      "What is your number? 5\n",
      "You guessed it wrong\n",
      "Your number is out of range!\n",
      "Computer's number: 1\n",
      "What is your number? 55\n",
      "You guessed it wrong\n",
      "Your number is out of range!\n",
      "Computer's number: 1\n",
      "What is your number? 33\n",
      "You guessed it wrong\n",
      "Your number is out of range!\n",
      "Computer's number: 1\n",
      "What is your number? tt\n",
      "invalid literal for int() with base 10: 'tt'\n",
      "Computer's number: 3\n",
      "What is your number? tt\n",
      "invalid literal for int() with base 10: 'tt'\n",
      "Computer's number: 3\n",
      "What is your number? 3\n",
      "You guessed right\n",
      "Your score: 1\n",
      "Your guess number: 3\n",
      "Computer's number: 1\n",
      "What is your number? 3\n",
      "You guessed it wrong\n",
      "Your guess number: 4\n",
      "Computer's number: 1\n",
      "What is your number? 3\n",
      "You guessed it wrong\n",
      "Your guess number: 5\n"
     ]
    }
   ],
   "source": [
    "### Exercise 42\n",
    "import random\n",
    "counter = 0\n",
    "i = 0\n",
    "loop_counter = 0\n",
    "\n",
    "while i < 6:\n",
    "    randomnumber1 = random.randint(1,3)\n",
    "    #print(f\"Computer's number: {u_num}\")\n",
    "    try:\n",
    "        guess = int(input(\"What is your number? \"))\n",
    "        if guess not in [1,2,3]:\n",
    "                raise RuntimeError(\"Your input number is out of range!\")        \n",
    "    except RuntimeError:\n",
    "        print(\"Your number is out of range!\")\n",
    "        \n",
    "    except ValueError as e:\n",
    "        print(e)\n",
    "    else:\n",
    "        if guess == randomnumber1:\n",
    "            counter +=1 # counts correct guesses\n",
    "        i=+1 # counts errors\n",
    "    finally:\n",
    "        loop_counter += 1\n",
    "    "
   ]
  },
  {
   "cell_type": "code",
   "execution_count": null,
   "id": "79bbe1ff",
   "metadata": {},
   "outputs": [],
   "source": []
  },
  {
   "cell_type": "code",
   "execution_count": null,
   "id": "41a31471",
   "metadata": {},
   "outputs": [],
   "source": []
  }
 ],
 "metadata": {
  "kernelspec": {
   "display_name": "Python 3 (ipykernel)",
   "language": "python",
   "name": "python3"
  },
  "language_info": {
   "codemirror_mode": {
    "name": "ipython",
    "version": 3
   },
   "file_extension": ".py",
   "mimetype": "text/x-python",
   "name": "python",
   "nbconvert_exporter": "python",
   "pygments_lexer": "ipython3",
   "version": "3.7.12"
  }
 },
 "nbformat": 4,
 "nbformat_minor": 5
}
