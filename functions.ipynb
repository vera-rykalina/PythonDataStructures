{
 "cells": [
  {
   "cell_type": "markdown",
   "id": "75736cb4",
   "metadata": {},
   "source": [
    "### 18.02.2022\n",
    "## FUNCTIONS"
   ]
  },
  {
   "cell_type": "code",
   "execution_count": 102,
   "id": "0f73c38c",
   "metadata": {},
   "outputs": [
    {
     "name": "stdout",
     "output_type": "stream",
     "text": [
      "5\n"
     ]
    }
   ],
   "source": [
    "# Example\n",
    "def sumup(a,b): # this first line is function's signature\n",
    "    sum = a + b\n",
    "    return sum\n",
    "cal_sum = sumup(2,3)\n",
    "print(cal_sum)"
   ]
  },
  {
   "cell_type": "code",
   "execution_count": 103,
   "id": "630fc4e7",
   "metadata": {},
   "outputs": [
    {
     "name": "stdout",
     "output_type": "stream",
     "text": [
      "None\n"
     ]
    }
   ],
   "source": [
    "def sumup(a,b):\n",
    "    sum = a + b\n",
    "    #return sum # retuns None afrer calling whithou return\n",
    "cal_sum = sumup(2,3)\n",
    "print(cal_sum)"
   ]
  },
  {
   "cell_type": "code",
   "execution_count": 104,
   "id": "a8f5dbcc",
   "metadata": {},
   "outputs": [
    {
     "name": "stdout",
     "output_type": "stream",
     "text": [
      "2\n",
      "4\n",
      "6\n"
     ]
    }
   ],
   "source": [
    "# Exercise 28 (a)\n",
    "# Write a function that sums up 2 numbers\n",
    "def add_func (a,b):\n",
    "    addition = a+b\n",
    "    return addition \n",
    "print(add_func(1,1))\n",
    "print(add_func(2,2))\n",
    "print(add_func(3,3))"
   ]
  },
  {
   "cell_type": "code",
   "execution_count": 105,
   "id": "2bc4e718",
   "metadata": {},
   "outputs": [
    {
     "name": "stdout",
     "output_type": "stream",
     "text": [
      "2\n",
      "1\n",
      "0\n"
     ]
    }
   ],
   "source": [
    "# Exercise 28 (b)\n",
    "# Write a function that subtract the 2d number from the 1st number \n",
    "def subt_func (a,b):\n",
    "    subtraction = a-b\n",
    "    return subtraction \n",
    "print(subt_func(3,1))\n",
    "print(subt_func(3,2))\n",
    "print(subt_func(3,3))"
   ]
  },
  {
   "cell_type": "code",
   "execution_count": 106,
   "id": "d6b4b278",
   "metadata": {},
   "outputs": [
    {
     "name": "stdout",
     "output_type": "stream",
     "text": [
      "4\n",
      "6\n",
      "27\n"
     ]
    }
   ],
   "source": [
    "# Exercise 28 (c)\n",
    "# Write a function that multiplies 2 numbers \n",
    "def mult_func (a,b,c):\n",
    "    multiplication = a*b*c\n",
    "    return multiplication\n",
    "print(mult_func(1,2,2))\n",
    "print(mult_func(3,2,1))\n",
    "print(mult_func(3,3,3))"
   ]
  },
  {
   "cell_type": "code",
   "execution_count": 107,
   "id": "9f05d774",
   "metadata": {},
   "outputs": [
    {
     "name": "stdout",
     "output_type": "stream",
     "text": [
      "0.5\n",
      "1.5\n",
      "1.0\n"
     ]
    }
   ],
   "source": [
    "# Exercise 28 (d)\n",
    "# Write a function that divide the 1st number over the 2nd number \n",
    "def div_func (a,b):\n",
    "    division = a/b\n",
    "    return division \n",
    "    \n",
    "print(div_func(1,2))\n",
    "print(div_func(3,2))\n",
    "print(div_func(3,3))"
   ]
  },
  {
   "cell_type": "code",
   "execution_count": 108,
   "id": "6da42daf",
   "metadata": {},
   "outputs": [
    {
     "data": {
      "text/plain": [
       "11"
      ]
     },
     "execution_count": 108,
     "metadata": {},
     "output_type": "execute_result"
    }
   ],
   "source": [
    "# Exercise 29\n",
    "# Write a program that contains 2 different functions\n",
    "# 1. Takes list as an argument and returns the sum of all elements in the list,\n",
    "# calculated by a loop\n",
    "\n",
    "def get_sum_list (mylist):\n",
    "    sum = 0\n",
    "    for i in range(0,len(mylist)):\n",
    "                    sum += mylist[i]\n",
    "    #print(sum)\n",
    "    return sum\n",
    "\n",
    "get_sum_list([1,2,3,5])\n",
    "                  "
   ]
  },
  {
   "cell_type": "code",
   "execution_count": 109,
   "id": "685a2ba1",
   "metadata": {},
   "outputs": [
    {
     "data": {
      "text/plain": [
       "[4, 3, 2, 1]"
      ]
     },
     "execution_count": 109,
     "metadata": {},
     "output_type": "execute_result"
    }
   ],
   "source": [
    "# 2. Takes list as an argument and returns a reviersed list, using a loop\n",
    "def get_reverse_list (mylist): \n",
    "    new_list = []\n",
    "    for i in mylist[::-1]:\n",
    "        new_list.append(i)\n",
    "    return new_list\n",
    "\n",
    "get_reverse_list([1,2,3,4])"
   ]
  },
  {
   "cell_type": "code",
   "execution_count": 110,
   "id": "87455d10",
   "metadata": {},
   "outputs": [
    {
     "name": "stdout",
     "output_type": "stream",
     "text": [
      "That is a maximum number in the nested list provide:\n"
     ]
    },
    {
     "data": {
      "text/plain": [
       "7777"
      ]
     },
     "execution_count": 110,
     "metadata": {},
     "output_type": "execute_result"
    }
   ],
   "source": [
    "# Exercise 30 (a)\n",
    "# Function for finding a maximum value in the nested list\n",
    "def find_max_value (nested_list):\n",
    "    max_num = 0\n",
    "\n",
    "    for i in range(0, len(nested_list)):\n",
    "        for j in range(0, len(nested_list[i])):\n",
    "            if nested_list[i][j] > max_num:\n",
    "                max_num = nested_list[i][j]\n",
    "    print(f\"That is a maximum number in the nested list provide:\") \n",
    "    return max_num\n",
    "find_max_value([[1,2,3,444,7777],[3,99,40],[50,44,12,100]])"
   ]
  },
  {
   "cell_type": "code",
   "execution_count": 111,
   "id": "13d9fb06",
   "metadata": {},
   "outputs": [
    {
     "name": "stdout",
     "output_type": "stream",
     "text": [
      "That is a sum of all elements in the nested list provide:\n"
     ]
    },
    {
     "data": {
      "text/plain": [
       "110"
      ]
     },
     "execution_count": 111,
     "metadata": {},
     "output_type": "execute_result"
    }
   ],
   "source": [
    "# Exercise 30 (b)\n",
    "# Function for calculating a sum of all values in the nested list\n",
    "def sum_of_elems (nested_list):\n",
    "    sum_of_elem = 0\n",
    "    for i in range(0, len(nested_list)):\n",
    "        for j in range(0, len(nested_list[i])):\n",
    "            sum_of_elem += nested_list[i][j]\n",
    "    print(f\"That is a sum of all elements in the nested list provide:\") \n",
    "    return sum_of_elem\n",
    "\n",
    "sum_of_elems([[1,1,1,1],[1,1,1],[1,1,1,100]])"
   ]
  },
  {
   "cell_type": "code",
   "execution_count": 1,
   "id": "b3fe8bd2",
   "metadata": {},
   "outputs": [
    {
     "name": "stdout",
     "output_type": "stream",
     "text": [
      "[[72, 81, 64, 90, 11], [58, 83, 76, 23, 48], [25, 91, 94, 26, 21]]\n",
      "[[17, 39, 41, 42, 49], [71, 81, 34, 89, 46], [76, 97, 71, 61, 69]]\n",
      "[[57, 10, 16, 40, 61], [82, 48, 27, 28, 17], [14, 49, 30, 27, 40]]\n"
     ]
    },
    {
     "data": {
      "text/plain": [
       "[[1224, 3159, 2624, 40, 61],\n",
       " [4118, 6723, 2584, 28, 17],\n",
       " [1900, 8827, 6674, 27, 40]]"
      ]
     },
     "execution_count": 1,
     "metadata": {},
     "output_type": "execute_result"
    }
   ],
   "source": [
    "# Exercise 30 (c)\n",
    "import random\n",
    "\n",
    "# Function for calculating a sum of all values in the nested list\n",
    "def mult_of_nested_lists (nested_list1, nested_list2, nested_list3):\n",
    "    for i in range(0,len(nested_list1)):\n",
    "        for j in range(0, len(nested_list2)):\n",
    "            mult = nested_list1[i][j] * nested_list2[i][j]\n",
    "            nested_list3[i][j]= mult \n",
    "    return nested_list3\n",
    "\n",
    "\n",
    "a = [list(random.sample(range(10,100),5)), list(random.sample(range(10,100),5)), list(random.sample(range(10,100),5))]\n",
    "print(a)\n",
    "b = [list(random.sample(range(10,100),5)), list(random.sample(range(10,100),5)), list(random.sample(range(10,100),5))]\n",
    "print(b)\n",
    "c = [list(random.sample(range(10,100),5)), list(random.sample(range(10,100),5)), list(random.sample(range(10,100),5))]\n",
    "print(c)\n",
    "mult_of_nested_lists(a, b, c)"
   ]
  },
  {
   "cell_type": "code",
   "execution_count": 30,
   "id": "f6b0b327",
   "metadata": {},
   "outputs": [
    {
     "name": "stdout",
     "output_type": "stream",
     "text": [
      "[[57, 45, 31, 18, 71], [40, 97, 70, 95, 79], [29, 33, 23, 13, 17]]\n",
      "[[38, 67, 84, 76, 34], [82, 26, 93, 17, 20], [74, 26, 11, 88, 84]]\n",
      "[[0, 0, 0, 0, 0], [0, 0, 0, 0, 0], [0, 0, 0, 0, 0]]\n"
     ]
    },
    {
     "data": {
      "text/plain": [
       "[[2166, 3015, 2604, 1368, 2414],\n",
       " [3280, 2522, 6510, 1615, 1580],\n",
       " [2146, 858, 253, 1144, 1428]]"
      ]
     },
     "execution_count": 30,
     "metadata": {},
     "output_type": "execute_result"
    }
   ],
   "source": [
    "# Exercise 30 (d)\n",
    "import random\n",
    "\n",
    "# Function for calculating a sum of all values in the nested list\n",
    "def mult_of_nested_lists (nested_list1, nested_list2):\n",
    "    nested_list3 = []\n",
    "    for in1 in range(0,3):\n",
    "        nested_list3.append(0)\n",
    "        #print(nested_list3)\n",
    "        for in2 in range(0,4):\n",
    "            nested_list3[in1] = [0,0,0,0,0]\n",
    "    print(nested_list3)\n",
    "            \n",
    "    for i in range(0,len(nested_list1)):\n",
    "        for j in range(0, len(nested_list2[i])):\n",
    "            mult = nested_list1[i][j] * nested_list2[i][j]\n",
    "            nested_list3[i][j]= mult \n",
    "    return nested_list3\n",
    "\n",
    "\n",
    "a = [list(random.sample(range(10,100),5)), list(random.sample(range(10,100),5)), list(random.sample(range(10,100),5))]\n",
    "print(a)\n",
    "b = [list(random.sample(range(10,100),5)), list(random.sample(range(10,100),5)), list(random.sample(range(10,100),5))]\n",
    "print(b)\n",
    "\n",
    "mult_of_nested_lists(a,b)"
   ]
  },
  {
   "cell_type": "code",
   "execution_count": 18,
   "id": "8063d7c5",
   "metadata": {},
   "outputs": [
    {
     "name": "stdout",
     "output_type": "stream",
     "text": [
      "[0]\n",
      "[[0, 0, 0, 0, 0]]\n",
      "[[0, 0, 0, 0, 0]]\n",
      "[[0, 0, 0, 0, 0]]\n",
      "[[0, 0, 0, 0, 0]]\n",
      "[[0, 0, 0, 0, 0], 0]\n",
      "[[0, 0, 0, 0, 0], [0, 0, 0, 0, 0]]\n",
      "[[0, 0, 0, 0, 0], [0, 0, 0, 0, 0]]\n",
      "[[0, 0, 0, 0, 0], [0, 0, 0, 0, 0]]\n",
      "[[0, 0, 0, 0, 0], [0, 0, 0, 0, 0]]\n",
      "[[0, 0, 0, 0, 0], [0, 0, 0, 0, 0], 0]\n",
      "[[0, 0, 0, 0, 0], [0, 0, 0, 0, 0], [0, 0, 0, 0, 0]]\n",
      "[[0, 0, 0, 0, 0], [0, 0, 0, 0, 0], [0, 0, 0, 0, 0]]\n",
      "[[0, 0, 0, 0, 0], [0, 0, 0, 0, 0], [0, 0, 0, 0, 0]]\n",
      "[[0, 0, 0, 0, 0], [0, 0, 0, 0, 0], [0, 0, 0, 0, 0]]\n"
     ]
    }
   ],
   "source": [
    "# creating a nested list with a loop\n",
    "nested_list3 = []\n",
    "for in1 in range(0,3):\n",
    "    nested_list3.append(0)\n",
    "    print(nested_list3)\n",
    "    for in2 in range(0,4):\n",
    "        nested_list3[in1] = [0,0,0,0,0]\n",
    "        print(nested_list3)"
   ]
  },
  {
   "cell_type": "code",
   "execution_count": 55,
   "id": "b74c13e8",
   "metadata": {},
   "outputs": [
    {
     "name": "stdout",
     "output_type": "stream",
     "text": [
      "6 2 8 2.0\n",
      "Addition: 6, Subtraction: 2, Multiplication: 8\n",
      "Addition: 9, Subtraction: 3, Multiplication: 18, Devision: 2.0\n"
     ]
    }
   ],
   "source": [
    "def math_operations(a,b):\n",
    "    sumup = a + b\n",
    "    sub = a - b\n",
    "    mult = a * b\n",
    "    dev = a/b\n",
    "    return sumup, sub, mult, dev\n",
    "\n",
    "SM, SB, MT, DV = math_operations(4,2)\n",
    "print(SM, SB, MT, DV)\n",
    "print(f\"Addition: {SM}, Subtraction: {SB}, Multiplication: {MT}, Devision: {DV}\")\n",
    "SM, SB, MT, DV = math_operations(6,3)\n",
    "print(f\"Addition: {SM}, Subtraction: {SB}, Multiplication: {MT}, Devision: {DV}\")\n"
   ]
  },
  {
   "cell_type": "code",
   "execution_count": 56,
   "id": "b73b7116",
   "metadata": {},
   "outputs": [
    {
     "name": "stdout",
     "output_type": "stream",
     "text": [
      "This is a sum of list elements: 20, and this is a list with a reversed order of elements: [10, 4, 3, 2, 1]\n"
     ]
    }
   ],
   "source": [
    "# Exercise 32\n",
    "\n",
    "def get_sum_reverse_list(mylist):\n",
    "    sumup = 0\n",
    "    new_list = []\n",
    "    for i in mylist[::-1]:\n",
    "        sumup += i\n",
    "        new_list.append(i)\n",
    "    return sumup, new_list\n",
    "\n",
    "SM, REV = get_sum_reverse_list([1,2,3,4,10])\n",
    "print(f\"This is a sum of list elements: {SM}, and this is a list with a reversed order of elements: {REV}\")"
   ]
  },
  {
   "cell_type": "code",
   "execution_count": 73,
   "id": "a85d8387",
   "metadata": {},
   "outputs": [
    {
     "name": "stdout",
     "output_type": "stream",
     "text": [
      "[17, 74, 90, 79, 81, 50, 48, 91, 31, 45, 60, 25, 32, 98, 88]\n",
      "181\n",
      "90\n"
     ]
    }
   ],
   "source": [
    "# Exercise 64\n",
    "# functions: break, continue, pass\n",
    "import random\n",
    "mylist = list(random.sample(range(10,100),15))\n",
    "print(mylist)\n",
    "\n",
    "sumOfelems = 0\n",
    "for i in mylist:\n",
    "    sumOfelems += i\n",
    "    if sumOfelems < 0:\n",
    "        pass # a place holder = do nothing!\n",
    "    if sumOfelems > 100:\n",
    "        break # breaks iteration\n",
    "    if i not in range(50, 61):\n",
    "        continue # ignore the print(i)!\n",
    "    print(i)\n",
    "print(sumOfelems)\n",
    "print(i)"
   ]
  }
 ],
 "metadata": {
  "kernelspec": {
   "display_name": "Python 3 (ipykernel)",
   "language": "python",
   "name": "python3"
  },
  "language_info": {
   "codemirror_mode": {
    "name": "ipython",
    "version": 3
   },
   "file_extension": ".py",
   "mimetype": "text/x-python",
   "name": "python",
   "nbconvert_exporter": "python",
   "pygments_lexer": "ipython3",
   "version": "3.7.12"
  }
 },
 "nbformat": 4,
 "nbformat_minor": 5
}
