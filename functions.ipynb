{
 "cells": [
  {
   "cell_type": "code",
   "execution_count": 2,
   "id": "1038d098",
   "metadata": {},
   "outputs": [
    {
     "name": "stdout",
     "output_type": "stream",
     "text": [
      "5\n"
     ]
    }
   ],
   "source": [
    "# function\n",
    "def sumup(a,b): # this first line is function's signature\n",
    "    sum = a + b\n",
    "    return sum\n",
    "cal_sum = sumup(2,3)\n",
    "print(cal_sum)\n"
   ]
  },
  {
   "cell_type": "code",
   "execution_count": 3,
   "id": "c6f0a79b",
   "metadata": {},
   "outputs": [
    {
     "name": "stdout",
     "output_type": "stream",
     "text": [
      "None\n"
     ]
    }
   ],
   "source": [
    "def sumup(a,b):\n",
    "    sum = a + b\n",
    "    #return sum # retuns None afrer calling whithou return\n",
    "cal_sum = sumup(2,3)\n",
    "print(cal_sum)"
   ]
  },
  {
   "cell_type": "code",
   "execution_count": 11,
   "id": "91dadd86",
   "metadata": {},
   "outputs": [
    {
     "name": "stdout",
     "output_type": "stream",
     "text": [
      "2\n",
      "4\n",
      "6\n"
     ]
    }
   ],
   "source": [
    "# Exercise 28 (a)\n",
    "# Write a function that sums up 2 numbers\n",
    "def add_func (a,b):\n",
    "    addition = a+b\n",
    "    return addition \n",
    "print(add_func(1,1))\n",
    "print(add_func(2,2))\n",
    "print(add_func(3,3))"
   ]
  },
  {
   "cell_type": "code",
   "execution_count": 10,
   "id": "9a63a2f7",
   "metadata": {},
   "outputs": [
    {
     "name": "stdout",
     "output_type": "stream",
     "text": [
      "2\n",
      "1\n",
      "0\n"
     ]
    }
   ],
   "source": [
    "# Exercise 28 (b)\n",
    "# Write a function that subtract the 2d number from the 1st number \n",
    "def subt_func (a,b):\n",
    "    subtraction = a-b\n",
    "    return subtraction \n",
    "print(subt_func(3,1))\n",
    "print(subt_func(3,2))\n",
    "print(subt_func(3,3))"
   ]
  },
  {
   "cell_type": "code",
   "execution_count": 31,
   "id": "d9ad917d",
   "metadata": {},
   "outputs": [
    {
     "name": "stdout",
     "output_type": "stream",
     "text": [
      "4\n",
      "6\n",
      "27\n"
     ]
    }
   ],
   "source": [
    "# Exercise 28 (c)\n",
    "# Write a function that multiplies 2 numbers \n",
    "def mult_func (a,b,c):\n",
    "    multiplication = a*b*c\n",
    "    return multiplication\n",
    "print(mult_func(1,2,2))\n",
    "print(mult_func(3,2,1))\n",
    "print(mult_func(3,3,3))"
   ]
  },
  {
   "cell_type": "code",
   "execution_count": 37,
   "id": "f7fccf82",
   "metadata": {},
   "outputs": [
    {
     "name": "stdout",
     "output_type": "stream",
     "text": [
      "0.5\n",
      "1.5\n",
      "1.0\n"
     ]
    }
   ],
   "source": [
    "# Exercise 28 (d)\n",
    "# Write a function that divide the 1st number over the 2nd number \n",
    "def div_func (a,b):\n",
    "    division = a/b\n",
    "    return division \n",
    "    \n",
    "print(div_func(1,2))\n",
    "print(div_func(3,2))\n",
    "print(div_func(3,3))"
   ]
  },
  {
   "cell_type": "code",
   "execution_count": 62,
   "id": "1e6b2eff",
   "metadata": {},
   "outputs": [
    {
     "data": {
      "text/plain": [
       "11"
      ]
     },
     "execution_count": 62,
     "metadata": {},
     "output_type": "execute_result"
    }
   ],
   "source": [
    "# Exercise 29\n",
    "# Write a prigram that contatis 2 different functions\n",
    "# 1. Takes list as an argument and returns the sum of all elements in the list,\n",
    "# calculated by a loop\n",
    "\n",
    "def get_sum_list (mylist):\n",
    "    sum = 0\n",
    "    for i in range(0,len(mylist)):\n",
    "                    sum += mylist[i]\n",
    "    #print(sum)\n",
    "    return sum\n",
    "\n",
    "get_sum_list([1,2,3,5])\n",
    "                  "
   ]
  },
  {
   "cell_type": "code",
   "execution_count": 70,
   "id": "076d4946",
   "metadata": {},
   "outputs": [
    {
     "data": {
      "text/plain": [
       "[4, 3, 2, 1]"
      ]
     },
     "execution_count": 70,
     "metadata": {},
     "output_type": "execute_result"
    }
   ],
   "source": [
    "# 2. Takes list as an argument and returns a reviersed list, using a loop\n",
    "def get_reverse_list (mylist): \n",
    "    new_list = []\n",
    "    for i in mylist[::-1]:\n",
    "        new_list.append(i)\n",
    "    return new_list\n",
    "\n",
    "get_reverse_list([1,2,3,4])"
   ]
  },
  {
   "cell_type": "code",
   "execution_count": 95,
   "id": "e698db42",
   "metadata": {},
   "outputs": [
    {
     "name": "stdout",
     "output_type": "stream",
     "text": [
      "That is a maximum number in the nested list provide:\n"
     ]
    },
    {
     "data": {
      "text/plain": [
       "7777"
      ]
     },
     "execution_count": 95,
     "metadata": {},
     "output_type": "execute_result"
    }
   ],
   "source": [
    "# Exercise 30 (a)\n",
    "# Function for finding a maximum value in the nested list\n",
    "def find_max_value (nested_list):\n",
    "    max_num = 0\n",
    "\n",
    "    for i in range(0, len(nested_list)):\n",
    "        for j in range(0, len(nested_list[i])):\n",
    "            if nested_list[i][j] > max_num:\n",
    "                max_num = nested_list[i][j]\n",
    "    print(f\"That is a maximum number in the nested list provide:\") \n",
    "    return max_num\n",
    "find_max_value([[1,2,3,444,7777],[3,99,40],[50,44,12,100]])"
   ]
  },
  {
   "cell_type": "code",
   "execution_count": 96,
   "id": "4161ffd6",
   "metadata": {},
   "outputs": [
    {
     "name": "stdout",
     "output_type": "stream",
     "text": [
      "That is a sum of all elements in the nested list provide:\n"
     ]
    },
    {
     "data": {
      "text/plain": [
       "110"
      ]
     },
     "execution_count": 96,
     "metadata": {},
     "output_type": "execute_result"
    }
   ],
   "source": [
    "# Exercise 30 (b)\n",
    "# Function for calculating a sum of all values in the nested list\n",
    "def sum_of_elems (nested_list):\n",
    "    sum_of_elem = 0\n",
    "    for i in range(0, len(nested_list)):\n",
    "        for j in range(0, len(nested_list[i])):\n",
    "            sum_of_elem += nested_list[i][j]\n",
    "    print(f\"That is a sum of all elements in the nested list provide:\") \n",
    "    return sum_of_elem\n",
    "\n",
    "sum_of_elems([[1,1,1,1],[1,1,1],[1,1,1,100]])"
   ]
  },
  {
   "cell_type": "code",
   "execution_count": 99,
   "id": "82b7d385",
   "metadata": {},
   "outputs": [
    {
     "name": "stdout",
     "output_type": "stream",
     "text": [
      "[[50, 90, 55, 47, 58], [80, 15, 26, 61, 40], [79, 62, 67, 11, 35]]\n",
      "[[96, 54, 87, 27, 73], [60, 73, 39, 38, 91], [94, 37, 31, 41, 92]]\n",
      "[[59, 60, 84, 73, 43], [80, 67, 11, 74, 94], [80, 83, 71, 68, 19]]\n"
     ]
    },
    {
     "data": {
      "text/plain": [
       "[[4800, 4860, 4785, 73, 43],\n",
       " [4800, 1095, 1014, 74, 94],\n",
       " [7426, 2294, 2077, 68, 19]]"
      ]
     },
     "execution_count": 99,
     "metadata": {},
     "output_type": "execute_result"
    }
   ],
   "source": [
    "# Exercise 30 (c)\n",
    "import random\n",
    "\n",
    "# Function for calculating a sum of all values in the nested list\n",
    "def mult_of_nested_lists (nested_list1, nested_list2, nested_list3):\n",
    "    for i in range(0,len(nested_list1)):\n",
    "        for j in range(0, len(nested_list2)):\n",
    "            mult = nested_list1[i][j] * nested_list2[i][j]\n",
    "            nested_list3[i][j]= mult \n",
    "    return nested_list3\n",
    "\n",
    "\n",
    "a = [list(random.sample(range(10,100),5)), list(random.sample(range(10,100),5)), list(random.sample(range(10,100),5))]\n",
    "print(a)\n",
    "b = [list(random.sample(range(10,100),5)), list(random.sample(range(10,100),5)), list(random.sample(range(10,100),5))]\n",
    "print(b)\n",
    "c = [list(random.sample(range(10,100),5)), list(random.sample(range(10,100),5)), list(random.sample(range(10,100),5))]\n",
    "print(c)\n",
    "mult_of_nested_lists(a, b, c)"
   ]
  },
  {
   "cell_type": "code",
   "execution_count": null,
   "id": "e164a580",
   "metadata": {},
   "outputs": [],
   "source": []
  },
  {
   "cell_type": "code",
   "execution_count": null,
   "id": "09336b78",
   "metadata": {},
   "outputs": [],
   "source": []
  }
 ],
 "metadata": {
  "kernelspec": {
   "display_name": "Python 3 (ipykernel)",
   "language": "python",
   "name": "python3"
  },
  "language_info": {
   "codemirror_mode": {
    "name": "ipython",
    "version": 3
   },
   "file_extension": ".py",
   "mimetype": "text/x-python",
   "name": "python",
   "nbconvert_exporter": "python",
   "pygments_lexer": "ipython3",
   "version": "3.7.12"
  }
 },
 "nbformat": 4,
 "nbformat_minor": 5
}
