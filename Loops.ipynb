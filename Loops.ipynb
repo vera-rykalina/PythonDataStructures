{
 "cells": [
  {
   "cell_type": "markdown",
   "id": "3823b7da",
   "metadata": {},
   "source": [
    "### 17.02.2022\n",
    "# LOOPS"
   ]
  },
  {
   "cell_type": "markdown",
   "id": "6e167cdb",
   "metadata": {},
   "source": [
    "## FOR loop"
   ]
  },
  {
   "cell_type": "code",
   "execution_count": 1,
   "id": "87098d31",
   "metadata": {},
   "outputs": [
    {
     "name": "stdout",
     "output_type": "stream",
     "text": [
      "Hello\n",
      "Hello\n",
      "Hello\n",
      "Hello\n",
      "Hello\n"
     ]
    }
   ],
   "source": [
    "# Example\n",
    "for i in range(5):\n",
    "    print(\"Hello\") # prints 'Hello' 5 times"
   ]
  },
  {
   "cell_type": "code",
   "execution_count": 4,
   "id": "88aed48e",
   "metadata": {},
   "outputs": [
    {
     "name": "stdout",
     "output_type": "stream",
     "text": [
      "1\n",
      "1\n",
      "2\n",
      "2\n",
      "3\n",
      "6\n",
      "4\n",
      "24\n",
      "5\n",
      "120\n",
      "6\n",
      "720\n",
      "7\n",
      "5040\n",
      "8\n",
      "40320\n",
      "9\n",
      "362880\n",
      "10\n",
      "3628800\n"
     ]
    }
   ],
   "source": [
    "# Example\n",
    "faculty =1\n",
    "for i in range(1,11):\n",
    "    print(i)\n",
    "    faculty = faculty*i\n",
    "    print(faculty)"
   ]
  },
  {
   "cell_type": "code",
   "execution_count": 7,
   "id": "17035315",
   "metadata": {},
   "outputs": [
    {
     "name": "stdout",
     "output_type": "stream",
     "text": [
      "0\n",
      "2\n",
      "4\n",
      "6\n",
      "8\n",
      "10\n",
      "12\n",
      "14\n",
      "16\n",
      "18\n",
      "20\n",
      "22\n"
     ]
    }
   ],
   "source": [
    "# Example\n",
    "for i in range(0, 23,2):\n",
    "    print(i)"
   ]
  },
  {
   "cell_type": "code",
   "execution_count": 305,
   "id": "ed45316c",
   "metadata": {},
   "outputs": [
    {
     "name": "stdout",
     "output_type": "stream",
     "text": [
      "0\n",
      "1\n",
      "3\n",
      "6\n",
      "10\n",
      "15\n",
      "21\n",
      "28\n",
      "36\n",
      "45\n",
      "55\n",
      "66\n",
      "78\n",
      "91\n",
      "105\n",
      "120\n",
      "136\n",
      "153\n",
      "171\n",
      "190\n",
      "210\n",
      "231\n",
      "231\n"
     ]
    }
   ],
   "source": [
    "# Exercise 1\n",
    "# Write a loop that sums up all numbers in the set range\n",
    "sum = 0\n",
    "for i in range(22):\n",
    "    sum += i\n",
    "    print(sum)\n",
    "print(sum)\n"
   ]
  },
  {
   "cell_type": "code",
   "execution_count": 41,
   "id": "bd1ea491",
   "metadata": {},
   "outputs": [
    {
     "name": "stdout",
     "output_type": "stream",
     "text": [
      "0\n",
      "2\n",
      "6\n",
      "12\n",
      "20\n",
      "30\n",
      "42\n",
      "56\n",
      "72\n",
      "90\n",
      "110\n",
      "110\n"
     ]
    }
   ],
   "source": [
    "# Exercise 2\n",
    "# Write a loop that sums up only even numbers in the range\n",
    "sum = 0\n",
    "for i in range(0,22,2):\n",
    "    sum += i\n",
    "    print(sum)\n",
    "print(sum)"
   ]
  },
  {
   "cell_type": "code",
   "execution_count": 42,
   "id": "50b2073d",
   "metadata": {},
   "outputs": [
    {
     "name": "stdout",
     "output_type": "stream",
     "text": [
      "[0, 1, 2, 3, 4, 5, 6, 7, 8, 9, 10, 11, 12, 13, 14, 15, 16, 17, 18, 19, 20, 21]\n",
      "[21, 20, 19, 18, 17, 16, 15, 14, 13, 12, 11, 10, 9, 8, 7, 6, 5, 4, 3, 2, 1, 0]\n"
     ]
    }
   ],
   "source": [
    "# Exercise 3\n",
    "# Write a loop that generates a list that contains the values of the range in a reverse order\n",
    "mylist = list(range(0,22))\n",
    "print(mylist)\n",
    "new_list = []\n",
    "for i in mylist[::-1]:\n",
    "    new_list.append(i)\n",
    "print(new_list)"
   ]
  },
  {
   "cell_type": "code",
   "execution_count": 43,
   "id": "de7608a0",
   "metadata": {},
   "outputs": [
    {
     "name": "stdout",
     "output_type": "stream",
     "text": [
      "[0, 1, 2, 3, 4, 5, 6, 7, 8, 9, 10, 11, 12, 13, 14, 15, 16, 17, 18, 19, 20, 21]\n",
      "21\n",
      "20\n",
      "19\n",
      "18\n",
      "17\n",
      "16\n",
      "15\n",
      "14\n",
      "13\n",
      "12\n",
      "11\n",
      "10\n",
      "9\n",
      "8\n",
      "7\n",
      "6\n",
      "5\n",
      "4\n",
      "3\n",
      "2\n",
      "1\n",
      "0\n"
     ]
    }
   ],
   "source": [
    "# Optional\n",
    "mylist = list(range(0,22))\n",
    "print(mylist)\n",
    "for i in mylist[::-1]:\n",
    "    print(i)"
   ]
  },
  {
   "cell_type": "code",
   "execution_count": 35,
   "id": "0fa52876",
   "metadata": {},
   "outputs": [
    {
     "name": "stdout",
     "output_type": "stream",
     "text": [
      "[0, 1, 2, 3, 4, 5, 6, 7, 8, 9, 10, 11, 12, 13, 14, 15, 16, 17, 18, 19, 20, 21]\n",
      "[21, 20, 19, 18, 17, 16, 15, 14, 13, 12, 11, 10, 9, 8, 7, 6, 5, 4, 3, 2, 1, 0]\n",
      "21\n",
      "20\n",
      "19\n",
      "18\n",
      "17\n",
      "16\n",
      "15\n",
      "14\n",
      "13\n",
      "12\n",
      "11\n",
      "10\n",
      "9\n",
      "8\n",
      "7\n",
      "6\n",
      "5\n",
      "4\n",
      "3\n",
      "2\n",
      "1\n",
      "0\n"
     ]
    }
   ],
   "source": [
    "# Optional\n",
    "mylist = list(range(0,22))\n",
    "print(mylist)\n",
    "mylist.reverse()\n",
    "print(mylist)\n",
    "for i in mylist:\n",
    "    print(i)"
   ]
  },
  {
   "cell_type": "code",
   "execution_count": 45,
   "id": "35a23d6f",
   "metadata": {},
   "outputs": [
    {
     "name": "stdout",
     "output_type": "stream",
     "text": [
      "[0, 1, 2, 3, 4, 5, 6, 7, 8, 9, 10, 11, 12, 13, 14, 15, 16, 17, 18, 19, 20, 21]\n",
      "[21]\n",
      "[21, 20]\n",
      "[21, 20, 19]\n",
      "[21, 20, 19, 18]\n",
      "[21, 20, 19, 18, 17]\n",
      "[21, 20, 19, 18, 17, 16]\n",
      "[21, 20, 19, 18, 17, 16, 15]\n",
      "[21, 20, 19, 18, 17, 16, 15, 14]\n",
      "[21, 20, 19, 18, 17, 16, 15, 14, 13]\n",
      "[21, 20, 19, 18, 17, 16, 15, 14, 13, 12]\n",
      "[21, 20, 19, 18, 17, 16, 15, 14, 13, 12, 11]\n",
      "[21, 20, 19, 18, 17, 16, 15, 14, 13, 12, 11, 10]\n",
      "[21, 20, 19, 18, 17, 16, 15, 14, 13, 12, 11, 10, 9]\n",
      "[21, 20, 19, 18, 17, 16, 15, 14, 13, 12, 11, 10, 9, 8]\n",
      "[21, 20, 19, 18, 17, 16, 15, 14, 13, 12, 11, 10, 9, 8, 7]\n",
      "[21, 20, 19, 18, 17, 16, 15, 14, 13, 12, 11, 10, 9, 8, 7, 6]\n",
      "[21, 20, 19, 18, 17, 16, 15, 14, 13, 12, 11, 10, 9, 8, 7, 6, 5]\n",
      "[21, 20, 19, 18, 17, 16, 15, 14, 13, 12, 11, 10, 9, 8, 7, 6, 5, 4]\n",
      "[21, 20, 19, 18, 17, 16, 15, 14, 13, 12, 11, 10, 9, 8, 7, 6, 5, 4, 3]\n",
      "[21, 20, 19, 18, 17, 16, 15, 14, 13, 12, 11, 10, 9, 8, 7, 6, 5, 4, 3, 2]\n",
      "[21, 20, 19, 18, 17, 16, 15, 14, 13, 12, 11, 10, 9, 8, 7, 6, 5, 4, 3, 2, 1]\n",
      "[21, 20, 19, 18, 17, 16, 15, 14, 13, 12, 11, 10, 9, 8, 7, 6, 5, 4, 3, 2, 1, 0]\n",
      "[21, 20, 19, 18, 17, 16, 15, 14, 13, 12, 11, 10, 9, 8, 7, 6, 5, 4, 3, 2, 1, 0]\n"
     ]
    }
   ],
   "source": [
    "# Optional\n",
    "mylist = list(range(0,22))\n",
    "print(mylist)\n",
    "mylist = []\n",
    "for i in reversed(range(0,22)):\n",
    "    mylist += [i]\n",
    "    print(mylist)\n",
    "print(mylist)"
   ]
  },
  {
   "cell_type": "code",
   "execution_count": 88,
   "id": "b8247763",
   "metadata": {},
   "outputs": [
    {
     "name": "stdout",
     "output_type": "stream",
     "text": [
      "[49, 46, 7, 45, 34, 15, 41, 28, 45, 52, 17, 6, 50, 43, 43, 24, 39, 54, 10, 5]\n"
     ]
    }
   ],
   "source": [
    "# Exercise\n",
    "# Create a list that contains at least 20 different numbers that are not sorted\n",
    "from random import randint\n",
    "\n",
    "mylist = []\n",
    "i = 20\n",
    "while i > 0:\n",
    "    mylist.append(randint(5,55))\n",
    "    i -= 1\n",
    "print(mylist)"
   ]
  },
  {
   "cell_type": "code",
   "execution_count": 89,
   "id": "ced3a85c",
   "metadata": {},
   "outputs": [
    {
     "name": "stdout",
     "output_type": "stream",
     "text": [
      "[49, 46, 7, 45, 34, 15, 41, 28, 45, 52, 17, 6, 50, 43, 43, 24, 39, 54, 10, 5]\n",
      "\n",
      "Sum of all numbers is: 653\n"
     ]
    }
   ],
   "source": [
    "# Write a loop that runs over all elements of the list and adds them all up\n",
    "print(mylist)\n",
    "sum = 0\n",
    "for num in mylist:\n",
    "    sum += num\n",
    "print(\"\")\n",
    "print(f\"Sum of all numbers is: {sum}\")\n"
   ]
  },
  {
   "cell_type": "code",
   "execution_count": 87,
   "id": "d59ef338",
   "metadata": {},
   "outputs": [
    {
     "name": "stdout",
     "output_type": "stream",
     "text": [
      "[22, 12, 54, 45, 55, 18, 43, 42, 33, 13, 32, 51, 6, 30, 40, 55, 19, 52, 17, 36]\n",
      "What is your number? 22\n",
      "Your number 22 is equal to the number in the list 22\n",
      "Your number 22 is greater than the number in the list 12\n",
      "Your number 22 is less than the number in the list 54\n",
      "Your number 22 is less than the number in the list 45\n",
      "Your number 22 is less than the number in the list 55\n",
      "Your number 22 is greater than the number in the list 18\n",
      "Your number 22 is less than the number in the list 43\n",
      "Your number 22 is less than the number in the list 42\n",
      "Your number 22 is less than the number in the list 33\n",
      "Your number 22 is greater than the number in the list 13\n",
      "Your number 22 is less than the number in the list 32\n",
      "Your number 22 is less than the number in the list 51\n",
      "Your number 22 is greater than the number in the list 6\n",
      "Your number 22 is less than the number in the list 30\n",
      "Your number 22 is less than the number in the list 40\n",
      "Your number 22 is less than the number in the list 55\n",
      "Your number 22 is greater than the number in the list 19\n",
      "Your number 22 is less than the number in the list 52\n",
      "Your number 22 is greater than the number in the list 17\n",
      "Your number 22 is less than the number in the list 36\n"
     ]
    }
   ],
   "source": [
    "# Write a loop that tells the user for each element whether it is bigger or lower than a number \n",
    "# specified by the user\n",
    "\n",
    "print(mylist) # defined earlier\n",
    "yournumber = int(input(\"What is your number? \"))\n",
    "index = 0\n",
    "for num in mylist:\n",
    "    if yournumber > num:\n",
    "        print(f\"Your number {yournumber} is greater than the number in the list {mylist[index]}\")\n",
    "        index += 1\n",
    "    elif yournumber < num:\n",
    "        print(f\"Your number {yournumber} is less than the number in the list {mylist[index]}\")\n",
    "        index += 1\n",
    "    else:\n",
    "        print(f\"Your number {yournumber} is equal to the number in the list {mylist[index]}\")\n",
    "        index += 1"
   ]
  },
  {
   "cell_type": "markdown",
   "id": "b276deb4",
   "metadata": {},
   "source": [
    "## WHILE loop"
   ]
  },
  {
   "cell_type": "code",
   "execution_count": 92,
   "id": "d7fdfa16",
   "metadata": {},
   "outputs": [
    {
     "name": "stdout",
     "output_type": "stream",
     "text": [
      "0\n",
      "1\n",
      "2\n",
      "3\n",
      "4\n",
      "5\n",
      "6\n",
      "7\n",
      "8\n",
      "9\n",
      "10\n",
      "11\n"
     ]
    }
   ],
   "source": [
    "testlist = list(range(12))\n",
    "testlist\n",
    "i = 0\n",
    "while i < len(testlist):\n",
    "    print(testlist[i])\n",
    "    i +=1"
   ]
  },
  {
   "cell_type": "code",
   "execution_count": 6,
   "id": "8136180e",
   "metadata": {},
   "outputs": [
    {
     "name": "stdout",
     "output_type": "stream",
     "text": [
      "[0, 1, 2, 3, 4, 5, 6, 7, 8, 9, 10, 11, 12, 13]\n",
      "\n",
      "[2, 1, 5, 6, 8, 11, 13, 9, 3, 4, 10, 12, 7, 0]\n"
     ]
    }
   ],
   "source": [
    "# Exercise\n",
    "import random\n",
    "rand = random.randint(0,51)\n",
    "mylist = list(range(rand))\n",
    "print(mylist)\n",
    "print(\"\")\n",
    "random.shuffle(mylist)\n",
    "print(mylist)\n"
   ]
  },
  {
   "cell_type": "code",
   "execution_count": 7,
   "id": "f50396c0",
   "metadata": {},
   "outputs": [
    {
     "name": "stdout",
     "output_type": "stream",
     "text": [
      "[2, 1, 5, 6, 8, 11, 13, 9, 3, 4, 10, 12, 7, 0]\n",
      "Number 1000 is not found in the list.\n"
     ]
    }
   ],
   "source": [
    "# Search for a specific number (e.g. 5) in an integer list of unknown length\n",
    "print(mylist)\n",
    "\n",
    "num = 1000\n",
    "i = 0\n",
    "while i < len(mylist):\n",
    "    if mylist[i] == num:\n",
    "        print(f\"Number {num} is found in the list.\")\n",
    "        print(f\"It's index is: {mylist.index(num)}\")\n",
    "    i += 1\n",
    "    \n",
    "if num not in mylist:\n",
    "    print(f\"Number {num} is not found in the list.\")\n"
   ]
  },
  {
   "cell_type": "code",
   "execution_count": 8,
   "id": "03f4387f",
   "metadata": {},
   "outputs": [
    {
     "name": "stdout",
     "output_type": "stream",
     "text": [
      "[2, 1, 5, 6, 8, 11, 13, 9, 3, 4, 10, 12, 7, 0]\n",
      "2\n",
      "2\n",
      "10\n",
      "60\n",
      "480\n",
      "5280\n",
      "68640\n",
      "617760\n",
      "1853280\n",
      "7413120\n",
      "74131200\n",
      "889574400\n",
      "6227020800\n",
      "0\n",
      "0\n"
     ]
    }
   ],
   "source": [
    "# Multiplying all elements with ech other in the integer list of unknown length\n",
    "print(mylist)\n",
    "\n",
    "mult = 1\n",
    "i = 0\n",
    "\n",
    "while i < len(mylist):\n",
    "    mult *=  mylist[i]\n",
    "    print(mult)\n",
    "    i += 1\n",
    "print(mult)"
   ]
  },
  {
   "cell_type": "code",
   "execution_count": 13,
   "id": "bd50b755",
   "metadata": {},
   "outputs": [
    {
     "name": "stdout",
     "output_type": "stream",
     "text": [
      "['This', 'is', 'my', 'lovely', 'string!']\n",
      "This\n",
      "is\n",
      "my\n",
      "lovely\n",
      "string!\n"
     ]
    }
   ],
   "source": [
    "# A while loop to print out the contents of a string list of unknown length\n",
    "mystr_list = list(\"This is my lovely string!\".split())\n",
    "print(mystr_list)\n",
    "i = 0\n",
    "while i < len(mystr_list):\n",
    "    print(mystr_list[i])\n",
    "    i +=1"
   ]
  },
  {
   "cell_type": "code",
   "execution_count": 12,
   "id": "91954d54",
   "metadata": {},
   "outputs": [
    {
     "name": "stdout",
     "output_type": "stream",
     "text": [
      "This is my lovely string!\n",
      "T\n",
      "--------------------\n",
      "h\n",
      "--------------------\n",
      "i\n",
      "--------------------\n",
      "s\n",
      "--------------------\n",
      " \n",
      "--------------------\n",
      "i\n",
      "--------------------\n",
      "s\n",
      "--------------------\n",
      " \n",
      "--------------------\n",
      "m\n",
      "--------------------\n",
      "y\n",
      "--------------------\n",
      " \n",
      "--------------------\n",
      "l\n",
      "--------------------\n",
      "o\n",
      "--------------------\n",
      "v\n",
      "--------------------\n",
      "e\n",
      "--------------------\n",
      "l\n",
      "--------------------\n",
      "y\n",
      "--------------------\n",
      " \n",
      "--------------------\n",
      "s\n",
      "--------------------\n",
      "t\n",
      "--------------------\n",
      "r\n",
      "--------------------\n",
      "i\n",
      "--------------------\n",
      "n\n",
      "--------------------\n",
      "g\n",
      "--------------------\n",
      "!\n",
      "--------------------\n"
     ]
    }
   ],
   "source": [
    "# A while loop to print out the contents of a string\n",
    "mystr_list = \"This is my lovely string!\"\n",
    "print(mystr_list)\n",
    "i = 0\n",
    "while i < len(mystr_list):\n",
    "    print(mystr_list[i])\n",
    "    print(\"-\"*20)\n",
    "    i +=1"
   ]
  },
  {
   "cell_type": "markdown",
   "id": "c694df88",
   "metadata": {},
   "source": [
    "## Nested loops"
   ]
  },
  {
   "cell_type": "code",
   "execution_count": 15,
   "id": "9702beb0",
   "metadata": {},
   "outputs": [
    {
     "name": "stdout",
     "output_type": "stream",
     "text": [
      "0 * 0 = 0\n",
      "0 * 1 = 0\n",
      "0 * 2 = 0\n",
      "1 * 0 = 0\n",
      "1 * 1 = 1\n",
      "1 * 2 = 2\n",
      "2 * 0 = 0\n",
      "2 * 1 = 2\n",
      "2 * 2 = 4\n"
     ]
    }
   ],
   "source": [
    "for i in range(3):\n",
    "    for j in range(3):\n",
    "        print(i,\"*\",j,\"=\",i*j)"
   ]
  },
  {
   "cell_type": "code",
   "execution_count": 149,
   "id": "35cede07",
   "metadata": {},
   "outputs": [
    {
     "name": "stdout",
     "output_type": "stream",
     "text": [
      "[[92, 96, 33, 52, 53], [45, 13, 10, 95, 36], [48, 76, 37, 30, 35]]\n"
     ]
    }
   ],
   "source": [
    "# Creating a random list\n",
    "import random\n",
    "nested_list = [list(random.sample(range(10,100),5)), list(random.sample(range(10,100),5)), list(random.sample(range(10,100),5))]\n",
    "print(nested_list)"
   ]
  },
  {
   "cell_type": "code",
   "execution_count": 271,
   "id": "67c0717f",
   "metadata": {},
   "outputs": [
    {
     "name": "stdout",
     "output_type": "stream",
     "text": [
      "[[92, 96, 33, 52, 53], [45, 13, 10, 95, 36], [48, 76, 37, 30, 35]]\n",
      "92\n",
      "96\n",
      "33\n",
      "52\n",
      "53\n",
      "45\n",
      "13\n",
      "10\n",
      "95\n",
      "36\n",
      "48\n",
      "76\n",
      "37\n",
      "30\n",
      "35\n",
      "This is your total: 751\n"
     ]
    }
   ],
   "source": [
    "# Sum up all entries of the the nested list\n",
    "print(nested_list)\n",
    "sum = 0\n",
    "for i in nested_list:\n",
    "    #print(i)\n",
    "    for j in i:\n",
    "        print(j)\n",
    "        sum += j\n",
    "print(f\"This is your total: {sum}\")\n",
    "    "
   ]
  },
  {
   "cell_type": "code",
   "execution_count": 252,
   "id": "beb957d7",
   "metadata": {},
   "outputs": [
    {
     "name": "stdout",
     "output_type": "stream",
     "text": [
      "3\n",
      "[[92, 96, 33, 52, 53], [45, 13, 10, 95, 36], [48, 76, 37, 30, 35]]\n",
      "That is a maximum number in the nested list: 96; it is located in the list number: 0 with index 1\n"
     ]
    }
   ],
   "source": [
    "print(len(nested_list))\n",
    "print(nested_list)\n",
    "\n",
    "max_num = 0\n",
    "indexOfList = 0\n",
    "indexOfItem = 0\n",
    "\n",
    "for i in range(0, len(nested_list)):\n",
    "    #print(i)\n",
    "    for j in range(0, len(nested_list[i])):\n",
    "        #print(j)\n",
    "        if nested_list[i][j] > max_num:\n",
    "            max_num = nested_list[i][j]\n",
    "            indexOfList = i\n",
    "            indexOfItem = j\n",
    "print(f\"That is a maximum number in the nested list: {max_num}; it is located in the list number: {indexOfList} with index {indexOfItem}\") "
   ]
  },
  {
   "cell_type": "code",
   "execution_count": 254,
   "id": "a4e61b04",
   "metadata": {},
   "outputs": [
    {
     "name": "stdout",
     "output_type": "stream",
     "text": [
      "[[62, 84, 24, 77, 41], [35, 78, 98, 39, 75], [12, 39, 24, 98, 31]]\n",
      "[[14, 35, 10, 67, 62], [12, 30, 33, 66, 10], [77, 20, 96, 13, 95]]\n"
     ]
    }
   ],
   "source": [
    "# Exercise\n",
    "# Describe the multiplication of the components of two matrices in a the thrird matrix\n",
    "import random\n",
    "nested_list1 = [list(random.sample(range(10,100),5)), list(random.sample(range(10,100),5)), list(random.sample(range(10,100),5))]\n",
    "print(nested_list1)\n",
    "nested_list2 = [list(random.sample(range(10,100),5)), list(random.sample(range(10,100),5)), list(random.sample(range(10,100),5))]\n",
    "print(nested_list2)\n"
   ]
  },
  {
   "cell_type": "code",
   "execution_count": 306,
   "id": "c4dde5a1",
   "metadata": {},
   "outputs": [
    {
     "name": "stdout",
     "output_type": "stream",
     "text": [
      "[[0, 0, 0, 0, 0], [0, 0, 0, 0, 0], [0, 0, 0, 0, 0]]\n",
      "62 * 14 = 868\n",
      "84 * 35 = 2940\n",
      "24 * 10 = 240\n",
      "77 * 67 = 5159\n",
      "41 * 62 = 2542\n",
      "35 * 12 = 420\n",
      "78 * 30 = 2340\n",
      "98 * 33 = 3234\n",
      "39 * 66 = 2574\n",
      "75 * 10 = 750\n",
      "12 * 77 = 924\n",
      "39 * 20 = 780\n",
      "24 * 96 = 2304\n",
      "98 * 13 = 1274\n",
      "31 * 95 = 2945\n",
      "[[868, 2940, 240, 5159, 2542], [420, 2340, 3234, 2574, 750], [924, 780, 2304, 1274, 2945]]\n"
     ]
    }
   ],
   "source": [
    "\n",
    "\n",
    "nested_list3 = [[0,0,0,0,0], [0,0,0,0,0],[0,0,0,0,0]]\n",
    "\n",
    "print(nested_list3)\n",
    "\n",
    "for i in range(0, len(nested_list1)):\n",
    "    for j in range(0, len(nested_list2[i])):\n",
    "        mult = nested_list1[i][j] * nested_list2[i][j]\n",
    "        print(nested_list1[i][j],\"*\",nested_list2[i][j],\"=\", nested_list1[i][j] * nested_list2[i][j])\n",
    "        nested_list3[i][j]= mult\n",
    "            \n",
    "print(nested_list3)\n"
   ]
  },
  {
   "cell_type": "code",
   "execution_count": null,
   "id": "9c1dea98",
   "metadata": {},
   "outputs": [],
   "source": []
  }
 ],
 "metadata": {
  "kernelspec": {
   "display_name": "Python 3 (ipykernel)",
   "language": "python",
   "name": "python3"
  },
  "language_info": {
   "codemirror_mode": {
    "name": "ipython",
    "version": 3
   },
   "file_extension": ".py",
   "mimetype": "text/x-python",
   "name": "python",
   "nbconvert_exporter": "python",
   "pygments_lexer": "ipython3",
   "version": "3.7.12"
  }
 },
 "nbformat": 4,
 "nbformat_minor": 5
}
