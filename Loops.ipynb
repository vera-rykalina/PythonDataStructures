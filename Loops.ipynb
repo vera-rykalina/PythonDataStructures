{
 "cells": [
  {
   "cell_type": "code",
   "execution_count": null,
   "id": "88037d68",
   "metadata": {},
   "outputs": [],
   "source": [
    "# 17.02.2022\n",
    "# Loop: for\n",
    "# Loop: while"
   ]
  },
  {
   "cell_type": "code",
   "execution_count": 1,
   "id": "7dd805b5",
   "metadata": {},
   "outputs": [
    {
     "name": "stdout",
     "output_type": "stream",
     "text": [
      "Hello\n",
      "Hello\n",
      "Hello\n",
      "Hello\n",
      "Hello\n"
     ]
    }
   ],
   "source": [
    "# Example\n",
    "for i in range(5):\n",
    "    print(\"Hello\") # prints 'Hello' 5 times"
   ]
  },
  {
   "cell_type": "code",
   "execution_count": 4,
   "id": "53adcdb7",
   "metadata": {},
   "outputs": [
    {
     "name": "stdout",
     "output_type": "stream",
     "text": [
      "1\n",
      "1\n",
      "2\n",
      "2\n",
      "3\n",
      "6\n",
      "4\n",
      "24\n",
      "5\n",
      "120\n",
      "6\n",
      "720\n",
      "7\n",
      "5040\n",
      "8\n",
      "40320\n",
      "9\n",
      "362880\n",
      "10\n",
      "3628800\n"
     ]
    }
   ],
   "source": [
    "# Example\n",
    "faculty =1\n",
    "for i in range(1,11):\n",
    "    print(i)\n",
    "    faculty = faculty*i\n",
    "    print(faculty)"
   ]
  },
  {
   "cell_type": "code",
   "execution_count": 7,
   "id": "8395f6e3",
   "metadata": {},
   "outputs": [
    {
     "name": "stdout",
     "output_type": "stream",
     "text": [
      "0\n",
      "2\n",
      "4\n",
      "6\n",
      "8\n",
      "10\n",
      "12\n",
      "14\n",
      "16\n",
      "18\n",
      "20\n",
      "22\n"
     ]
    }
   ],
   "source": [
    "# Example\n",
    "for i in range(0, 23,2):\n",
    "    print(i)"
   ]
  },
  {
   "cell_type": "code",
   "execution_count": 13,
   "id": "9aefb087",
   "metadata": {},
   "outputs": [
    {
     "name": "stdout",
     "output_type": "stream",
     "text": [
      "0\n",
      "1\n",
      "3\n",
      "6\n",
      "10\n",
      "15\n",
      "21\n",
      "28\n",
      "36\n",
      "45\n",
      "55\n",
      "66\n",
      "78\n",
      "91\n",
      "105\n",
      "120\n",
      "136\n",
      "153\n",
      "171\n",
      "190\n",
      "210\n",
      "231\n",
      "231\n"
     ]
    }
   ],
   "source": [
    "# Exercise 1\n",
    "# Write a loop that sums up all numbers in the set range\n",
    "sum = 0\n",
    "for i in range(22):\n",
    "    sum += i\n",
    "    print(sum)\n",
    "print(sum)\n"
   ]
  },
  {
   "cell_type": "code",
   "execution_count": 41,
   "id": "a6111053",
   "metadata": {},
   "outputs": [
    {
     "name": "stdout",
     "output_type": "stream",
     "text": [
      "0\n",
      "2\n",
      "6\n",
      "12\n",
      "20\n",
      "30\n",
      "42\n",
      "56\n",
      "72\n",
      "90\n",
      "110\n",
      "110\n"
     ]
    }
   ],
   "source": [
    "# Exercise 2\n",
    "# Write a loop that sums up only even numbers in the range\n",
    "sum = 0\n",
    "for i in range(0,22,2):\n",
    "    sum += i\n",
    "    print(sum)\n",
    "print(sum)"
   ]
  },
  {
   "cell_type": "code",
   "execution_count": 42,
   "id": "8615ce68",
   "metadata": {},
   "outputs": [
    {
     "name": "stdout",
     "output_type": "stream",
     "text": [
      "[0, 1, 2, 3, 4, 5, 6, 7, 8, 9, 10, 11, 12, 13, 14, 15, 16, 17, 18, 19, 20, 21]\n",
      "[21, 20, 19, 18, 17, 16, 15, 14, 13, 12, 11, 10, 9, 8, 7, 6, 5, 4, 3, 2, 1, 0]\n"
     ]
    }
   ],
   "source": [
    "# Exercise 3\n",
    "# Write a loop that generates a list that contains the values of the range in a reverse order\n",
    "mylist = list(range(0,22))\n",
    "print(mylist)\n",
    "new_list = []\n",
    "for i in mylist[::-1]:\n",
    "    new_list.append(i)\n",
    "print(new_list)"
   ]
  },
  {
   "cell_type": "code",
   "execution_count": 43,
   "id": "0f9f49ee",
   "metadata": {},
   "outputs": [
    {
     "name": "stdout",
     "output_type": "stream",
     "text": [
      "[0, 1, 2, 3, 4, 5, 6, 7, 8, 9, 10, 11, 12, 13, 14, 15, 16, 17, 18, 19, 20, 21]\n",
      "21\n",
      "20\n",
      "19\n",
      "18\n",
      "17\n",
      "16\n",
      "15\n",
      "14\n",
      "13\n",
      "12\n",
      "11\n",
      "10\n",
      "9\n",
      "8\n",
      "7\n",
      "6\n",
      "5\n",
      "4\n",
      "3\n",
      "2\n",
      "1\n",
      "0\n"
     ]
    }
   ],
   "source": [
    "# Optional\n",
    "mylist = list(range(0,22))\n",
    "print(mylist)\n",
    "for i in mylist[::-1]:\n",
    "    print(i)"
   ]
  },
  {
   "cell_type": "code",
   "execution_count": 35,
   "id": "9885495d",
   "metadata": {},
   "outputs": [
    {
     "name": "stdout",
     "output_type": "stream",
     "text": [
      "[0, 1, 2, 3, 4, 5, 6, 7, 8, 9, 10, 11, 12, 13, 14, 15, 16, 17, 18, 19, 20, 21]\n",
      "[21, 20, 19, 18, 17, 16, 15, 14, 13, 12, 11, 10, 9, 8, 7, 6, 5, 4, 3, 2, 1, 0]\n",
      "21\n",
      "20\n",
      "19\n",
      "18\n",
      "17\n",
      "16\n",
      "15\n",
      "14\n",
      "13\n",
      "12\n",
      "11\n",
      "10\n",
      "9\n",
      "8\n",
      "7\n",
      "6\n",
      "5\n",
      "4\n",
      "3\n",
      "2\n",
      "1\n",
      "0\n"
     ]
    }
   ],
   "source": [
    "# Optional\n",
    "mylist = list(range(0,22))\n",
    "print(mylist)\n",
    "mylist.reverse()\n",
    "print(mylist)\n",
    "for i in mylist:\n",
    "    print(i)"
   ]
  },
  {
   "cell_type": "code",
   "execution_count": 45,
   "id": "9035d4ea",
   "metadata": {},
   "outputs": [
    {
     "name": "stdout",
     "output_type": "stream",
     "text": [
      "[0, 1, 2, 3, 4, 5, 6, 7, 8, 9, 10, 11, 12, 13, 14, 15, 16, 17, 18, 19, 20, 21]\n",
      "[21]\n",
      "[21, 20]\n",
      "[21, 20, 19]\n",
      "[21, 20, 19, 18]\n",
      "[21, 20, 19, 18, 17]\n",
      "[21, 20, 19, 18, 17, 16]\n",
      "[21, 20, 19, 18, 17, 16, 15]\n",
      "[21, 20, 19, 18, 17, 16, 15, 14]\n",
      "[21, 20, 19, 18, 17, 16, 15, 14, 13]\n",
      "[21, 20, 19, 18, 17, 16, 15, 14, 13, 12]\n",
      "[21, 20, 19, 18, 17, 16, 15, 14, 13, 12, 11]\n",
      "[21, 20, 19, 18, 17, 16, 15, 14, 13, 12, 11, 10]\n",
      "[21, 20, 19, 18, 17, 16, 15, 14, 13, 12, 11, 10, 9]\n",
      "[21, 20, 19, 18, 17, 16, 15, 14, 13, 12, 11, 10, 9, 8]\n",
      "[21, 20, 19, 18, 17, 16, 15, 14, 13, 12, 11, 10, 9, 8, 7]\n",
      "[21, 20, 19, 18, 17, 16, 15, 14, 13, 12, 11, 10, 9, 8, 7, 6]\n",
      "[21, 20, 19, 18, 17, 16, 15, 14, 13, 12, 11, 10, 9, 8, 7, 6, 5]\n",
      "[21, 20, 19, 18, 17, 16, 15, 14, 13, 12, 11, 10, 9, 8, 7, 6, 5, 4]\n",
      "[21, 20, 19, 18, 17, 16, 15, 14, 13, 12, 11, 10, 9, 8, 7, 6, 5, 4, 3]\n",
      "[21, 20, 19, 18, 17, 16, 15, 14, 13, 12, 11, 10, 9, 8, 7, 6, 5, 4, 3, 2]\n",
      "[21, 20, 19, 18, 17, 16, 15, 14, 13, 12, 11, 10, 9, 8, 7, 6, 5, 4, 3, 2, 1]\n",
      "[21, 20, 19, 18, 17, 16, 15, 14, 13, 12, 11, 10, 9, 8, 7, 6, 5, 4, 3, 2, 1, 0]\n",
      "[21, 20, 19, 18, 17, 16, 15, 14, 13, 12, 11, 10, 9, 8, 7, 6, 5, 4, 3, 2, 1, 0]\n"
     ]
    }
   ],
   "source": [
    "# Optional\n",
    "mylist = list(range(0,22))\n",
    "print(mylist)\n",
    "mylist = []\n",
    "for i in reversed(range(0,22)):\n",
    "    mylist += [i]\n",
    "    print(mylist)\n",
    "print(mylist)"
   ]
  },
  {
   "cell_type": "code",
   "execution_count": 86,
   "id": "ed84cee9",
   "metadata": {},
   "outputs": [
    {
     "name": "stdout",
     "output_type": "stream",
     "text": [
      "[22, 12, 54, 45, 55, 18, 43, 42, 33, 13, 32, 51, 6, 30, 40, 55, 19, 52, 17, 36]\n",
      "\n",
      "Sum of all numbers is: 675\n"
     ]
    }
   ],
   "source": [
    "# Exercise\n",
    "# Create a list that contains at least 20 different numbers that are not sorted\n",
    "from random import randint\n",
    "\n",
    "mylist = []\n",
    "i = 20\n",
    "while i > 0:\n",
    "    mylist.append(randint(5,55))\n",
    "    i -= 1\n",
    "print(mylist)\n",
    "\n",
    "# Write a loop that runs over all elements of the list and adds them all up\n",
    "sum = 0\n",
    "for num in mylist:\n",
    "    sum += num\n",
    "print(\"\")\n",
    "print(f\"Sum of all numbers is: {sum}\")\n"
   ]
  },
  {
   "cell_type": "code",
   "execution_count": 87,
   "id": "03581371",
   "metadata": {},
   "outputs": [
    {
     "name": "stdout",
     "output_type": "stream",
     "text": [
      "[22, 12, 54, 45, 55, 18, 43, 42, 33, 13, 32, 51, 6, 30, 40, 55, 19, 52, 17, 36]\n",
      "What is your number? 22\n",
      "Your number 22 is equal to the number in the list 22\n",
      "Your number 22 is greater than the number in the list 12\n",
      "Your number 22 is less than the number in the list 54\n",
      "Your number 22 is less than the number in the list 45\n",
      "Your number 22 is less than the number in the list 55\n",
      "Your number 22 is greater than the number in the list 18\n",
      "Your number 22 is less than the number in the list 43\n",
      "Your number 22 is less than the number in the list 42\n",
      "Your number 22 is less than the number in the list 33\n",
      "Your number 22 is greater than the number in the list 13\n",
      "Your number 22 is less than the number in the list 32\n",
      "Your number 22 is less than the number in the list 51\n",
      "Your number 22 is greater than the number in the list 6\n",
      "Your number 22 is less than the number in the list 30\n",
      "Your number 22 is less than the number in the list 40\n",
      "Your number 22 is less than the number in the list 55\n",
      "Your number 22 is greater than the number in the list 19\n",
      "Your number 22 is less than the number in the list 52\n",
      "Your number 22 is greater than the number in the list 17\n",
      "Your number 22 is less than the number in the list 36\n"
     ]
    }
   ],
   "source": [
    "# Write a loop that tells the user for each element whether it is bigger or lower than a number \n",
    "# specified by the user\n",
    "\n",
    "print(mylist)\n",
    "yournumber = int(input(\"What is your number? \"))\n",
    "index = 0\n",
    "for num in mylist:\n",
    "    if yournumber > num:\n",
    "        print(f\"Your number {yournumber} is greater than the number in the list {mylist[index]}\")\n",
    "        index += 1\n",
    "    elif yournumber < num:\n",
    "        print(f\"Your number {yournumber} is less than the number in the list {mylist[index]}\")\n",
    "        index += 1\n",
    "    else:\n",
    "        print(f\"Your number {yournumber} is equal to the number in the list {mylist[index]}\")\n",
    "        index += 1"
   ]
  },
  {
   "cell_type": "code",
   "execution_count": null,
   "id": "45cb0f8d",
   "metadata": {},
   "outputs": [],
   "source": []
  },
  {
   "cell_type": "code",
   "execution_count": null,
   "id": "151661a7",
   "metadata": {},
   "outputs": [],
   "source": []
  }
 ],
 "metadata": {
  "kernelspec": {
   "display_name": "Python 3 (ipykernel)",
   "language": "python",
   "name": "python3"
  },
  "language_info": {
   "codemirror_mode": {
    "name": "ipython",
    "version": 3
   },
   "file_extension": ".py",
   "mimetype": "text/x-python",
   "name": "python",
   "nbconvert_exporter": "python",
   "pygments_lexer": "ipython3",
   "version": "3.7.12"
  }
 },
 "nbformat": 4,
 "nbformat_minor": 5
}
