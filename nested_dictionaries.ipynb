{
 "cells": [
  {
   "cell_type": "code",
   "execution_count": 2,
   "id": "1a2242d0",
   "metadata": {},
   "outputs": [],
   "source": [
    "# 16.02.2022\n",
    "# CONTENTS:\n",
    "# Nested dictionaries\n"
   ]
  },
  {
   "cell_type": "code",
   "execution_count": 3,
   "id": "25a2e186",
   "metadata": {},
   "outputs": [
    {
     "name": "stdout",
     "output_type": "stream",
     "text": [
      "dict_items([('k1', 1), ('k2', 2)])\n",
      "dict_values([1, 2])\n",
      "dict_keys(['k1', 'k2'])\n",
      "{'k1': 1, 'k2': 2}\n"
     ]
    }
   ],
   "source": [
    "# Creating a dictionary \"d\"\n",
    "d = {\"k1\": 1, \"k2\": 2}\n",
    "print(d.items())\n",
    "print(d.values())\n",
    "print(d.keys())\n",
    "print(d)\n"
   ]
  },
  {
   "cell_type": "code",
   "execution_count": 4,
   "id": "2208969a",
   "metadata": {},
   "outputs": [
    {
     "name": "stdout",
     "output_type": "stream",
     "text": [
      "1\n",
      "2\n"
     ]
    }
   ],
   "source": [
    "# Tuple unpacking and looping through the dictionary \"d\"\n",
    "for key, value in d.items():\n",
    "    print(value)"
   ]
  },
  {
   "cell_type": "code",
   "execution_count": 10,
   "id": "abf8751e",
   "metadata": {},
   "outputs": [
    {
     "name": "stdout",
     "output_type": "stream",
     "text": [
      "It is here!\n"
     ]
    }
   ],
   "source": [
    "# add safety: check if a key exists\n",
    "# Exercise\n",
    "# Create a nested dictionary with several entries\n",
    "addressbook = {}\n",
    "addressbook[\"Jane Doe\"] = {}\n",
    "addressbook[\"Jane Doe\"][\"City\"] = \"Berlin\"\n",
    "addressbook[\"Jane Doe\"][\"Street\"] = \"Hauptstrasse\"\n",
    "addressbook[\"Jane Doe\"][\"Telephone\"] = \"11121314\"\n",
    "addressbook[\"Jane Doe\"][\"E-Mail\"] = \"jane.doe@wed.de\"\n",
    "addressbook[\"Jane Doe\"][\"Date of Birth\"] = \"02.01.1990\"\n",
    "addressbook\n",
    "\n",
    "if \"City\" in addressbook[\"Jane Doe\"]:\n",
    "    print(\"It is here!\")"
   ]
  },
  {
   "cell_type": "code",
   "execution_count": null,
   "id": "fe57f240",
   "metadata": {},
   "outputs": [],
   "source": [
    "\n"
   ]
  },
  {
   "cell_type": "code",
   "execution_count": 3,
   "id": "87b1d6c4",
   "metadata": {},
   "outputs": [
    {
     "name": "stdout",
     "output_type": "stream",
     "text": [
      "{'Jane Doe': {'City': 'Berlin', 'Street': 'Hauptstrasse', 'Telephone': '11121314', 'E-Mail': 'jane.doe@wed.de', 'Date of Birth': '02.01.1990'}}\n",
      "What would you like to do: add, delete or change an entry? Type your choice: delete\n",
      "What entry should be deleted? City\n",
      "Confirmation: such entry exists.\n",
      "You entry 'City' is succefully deleted\n",
      " That is your current entry book:\n",
      "{'Jane Doe': {'Street': 'Hauptstrasse', 'Telephone': '11121314', 'E-Mail': 'jane.doe@wed.de', 'Date of Birth': '02.01.1990'}}\n"
     ]
    }
   ],
   "source": [
    "addressbook = {}\n",
    "addressbook[\"Jane Doe\"] = {}\n",
    "addressbook[\"Jane Doe\"][\"City\"] = \"Berlin\"\n",
    "addressbook[\"Jane Doe\"][\"Street\"] = \"Hauptstrasse\"\n",
    "addressbook[\"Jane Doe\"][\"Telephone\"] = \"11121314\"\n",
    "addressbook[\"Jane Doe\"][\"E-Mail\"] = \"jane.doe@wed.de\"\n",
    "addressbook[\"Jane Doe\"][\"Date of Birth\"] = \"02.01.1990\"\n",
    "print(addressbook)\n",
    "\n",
    "\n",
    "q1 = input(\"What would you like to do: add, delete or change an entry? Type your choice: \")\n",
    "if q1 != \"delete\" and q1 != \"add\" and q1 != \"change\":\n",
    "    print(\"You were supposed to type 'add', 'change' or 'delete' as shown. Restart a program now!\")\n",
    "\n",
    "elif q1 == \"delete\" or q1 == \"add\" or q1 == \"change\":\n",
    "    if q1 == \"delete\":\n",
    "        q2 = input(\"What entry should be deleted? \")\n",
    "        if q2 in addressbook[\"Jane Doe\"].keys():\n",
    "            print(\"Confirmation: such entry exists.\")\n",
    "            del addressbook[\"Jane Doe\"][q2]\n",
    "            print(f\"You entry '{q2}' is succefully deleted\\n That is your current entry book:\")\n",
    "            print(addressbook)\n",
    "        else:\n",
    "            print(\"There is no such entry\")\n",
    "            \n",
    "    if q1 == \"change\":\n",
    "        q2 = input(\"What category should be changed? \")\n",
    "        if q2 in addressbook[\"Jane Doe\"].keys():\n",
    "            print(\"Confirmation: such entry exists.\")\n",
    "            contents = input(f\"What content should be changed for the category'{q2}'?\")\n",
    "            addressbook[\"Jane Doe\"][q2] = contents\n",
    "            print(f\"You entry for '{q2}' is succefully changed\\n That is your current entry book:\")\n",
    "            print(addressbook)\n",
    "    if q1 == \"add\":\n",
    "        q2 = input(\"What entry info should be added? \")\n",
    "        contents = input(\"What content should be? \")\n",
    "        addressbook[\"Jane Doe\"][q2] = contents\n",
    "        print(addressbook)\n",
    "    "
   ]
  },
  {
   "cell_type": "code",
   "execution_count": null,
   "id": "9f89e89a",
   "metadata": {},
   "outputs": [],
   "source": []
  },
  {
   "cell_type": "code",
   "execution_count": null,
   "id": "da022b23",
   "metadata": {},
   "outputs": [],
   "source": []
  }
 ],
 "metadata": {
  "kernelspec": {
   "display_name": "Python 3 (ipykernel)",
   "language": "python",
   "name": "python3"
  },
  "language_info": {
   "codemirror_mode": {
    "name": "ipython",
    "version": 3
   },
   "file_extension": ".py",
   "mimetype": "text/x-python",
   "name": "python",
   "nbconvert_exporter": "python",
   "pygments_lexer": "ipython3",
   "version": "3.7.12"
  }
 },
 "nbformat": 4,
 "nbformat_minor": 5
}
